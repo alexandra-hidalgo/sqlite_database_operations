{
  "nbformat": 4,
  "nbformat_minor": 0,
  "metadata": {
    "colab": {
      "provenance": [],
      "authorship_tag": "ABX9TyMdFDJFyDDoDf0NFI0NKN98",
      "include_colab_link": true
    },
    "kernelspec": {
      "name": "python3",
      "display_name": "Python 3"
    },
    "language_info": {
      "name": "python"
    }
  },
  "cells": [
    {
      "cell_type": "markdown",
      "metadata": {
        "id": "view-in-github",
        "colab_type": "text"
      },
      "source": [
        "<a href=\"https://colab.research.google.com/github/alexandra-hidalgo/sqlite_database_operations/blob/main/Sqlite.ipynb\" target=\"_parent\"><img src=\"https://colab.research.google.com/assets/colab-badge.svg\" alt=\"Open In Colab\"/></a>"
      ]
    },
    {
      "cell_type": "markdown",
      "source": [
        "## Import packages"
      ],
      "metadata": {
        "id": "aJ0WiLnHupFI"
      }
    },
    {
      "cell_type": "code",
      "execution_count": 66,
      "metadata": {
        "id": "X8jEVzpqgbZk"
      },
      "outputs": [],
      "source": [
        "import pandas as pd\n",
        "import numpy as np\n",
        "import matplotlib.pyplot as plt\n",
        "from sqlalchemy import create_engine\n",
        "import sqlite3\n"
      ]
    },
    {
      "cell_type": "markdown",
      "source": [
        "# First Database analysis  "
      ],
      "metadata": {
        "id": "3Z_YUF4Yuvcd"
      }
    },
    {
      "cell_type": "code",
      "source": [
        "Presbyterian_Hospital = pd.read_json('https://raw.githubusercontent.com/hantswilliams/HHA_504_2023/main/WK3/data/nyp/133957095_NewYorkPresbyterianHospital_standardcharges.json')"
      ],
      "metadata": {
        "id": "RvBUoBqAgffz"
      },
      "execution_count": 149,
      "outputs": []
    },
    {
      "cell_type": "code",
      "source": [
        "Presbyterian_Hospital"
      ],
      "metadata": {
        "id": "DnmxN06ShRQS",
        "colab": {
          "base_uri": "https://localhost:8080/",
          "height": 1000
        },
        "outputId": "94f85d93-be4f-4819-d182-a537cd8ec6d4"
      },
      "execution_count": 150,
      "outputs": [
        {
          "output_type": "execute_result",
          "data": {
            "text/plain": [
              "     Code (CPT/DRG)                                        Description  \\\n",
              "0             96360        HC IV INFUSION HYDRATION INITIAL 31 MIN-1HR   \n",
              "1             96361            HC IV INFUSION HYDRATION FLUIDS ADDL HR   \n",
              "2             96365  HC IV INFUSION FOR THER/PROPH/DIAG INITIAL UP ...   \n",
              "3             96367  HC IV INF THER/PROPH/DIAG ADDL SEQ NEW DRUG UP...   \n",
              "4             96368      HC IV INFUSION FOR THER/PROPH/DIAG CONCURRENT   \n",
              "...             ...                                                ...   \n",
              "6188            982  EXTENSIVE O.R. PROCEDURES UNRELATED TO PRINCIP...   \n",
              "6189            983  EXTENSIVE O.R. PROCEDURES UNRELATED TO PRINCIP...   \n",
              "6190            987  NON-EXTENSIVE O.R. PROCEDURES UNRELATED TO PRI...   \n",
              "6191            988  NON-EXTENSIVE O.R. PROCEDURES UNRELATED TO PRI...   \n",
              "6192            989  NON-EXTENSIVE O.R. PROCEDURES UNRELATED TO PRI...   \n",
              "\n",
              "      Rev Code  Inpatient/Outpatient  Gross Charges  Discounted Cash Price  \\\n",
              "0         0260  Inpatient/Outpatient     866.000000             866.000000   \n",
              "1         0260  Inpatient/Outpatient     358.000000             358.000000   \n",
              "2         0260  Inpatient/Outpatient    1397.000000            1397.000000   \n",
              "3         0260  Inpatient/Outpatient     480.000000             480.000000   \n",
              "4         0260  Inpatient/Outpatient     480.000000             480.000000   \n",
              "...        ...                   ...            ...                    ...   \n",
              "6188  Multiple             Inpatient  184095.129020          184095.129020   \n",
              "6189  Multiple             Inpatient   85385.941857           85385.941857   \n",
              "6190  Multiple             Inpatient  411665.999955          411665.999955   \n",
              "6191  Multiple             Inpatient  126522.871140          126522.871140   \n",
              "6192  Multiple             Inpatient   77081.639496           77081.639496   \n",
              "\n",
              "            Aetna          Cigna Empire Blue Cross Blue Shield Emblem Health  \\\n",
              "0         641.706        494.486                        640.84      1388.424   \n",
              "1         265.278        204.418                        264.92      1305.112   \n",
              "2        1035.177        797.687                       1033.78      1475.508   \n",
              "3          355.68         274.08                         355.2       1325.12   \n",
              "4          355.68         274.08                         355.2       1325.12   \n",
              "...           ...            ...                           ...           ...   \n",
              "6188   86723.5232   98911.694706                      82299.84  115129.89148   \n",
              "6189   57748.8352   65864.888166                  63931.455093   76664.51828   \n",
              "6190  114736.9984  130862.199072                 214294.876425  152319.20576   \n",
              "6191   58654.7264   66898.093812                    91907.6928   77867.13496   \n",
              "6192   38116.5824   43473.507792                   44463.77208   50601.70336   \n",
              "\n",
              "      ... Consumer Health Network         Devon        Equian  First Health  \\\n",
              "0     ...                393.5104      393.5104      393.5104      393.5104   \n",
              "1     ...                162.6752      162.6752      162.6752      162.6752   \n",
              "2     ...                634.7968      634.7968      634.7968      634.7968   \n",
              "3     ...                 218.112       218.112       218.112       218.112   \n",
              "4     ...                 218.112       218.112       218.112       218.112   \n",
              "...   ...                     ...           ...           ...           ...   \n",
              "6188  ...            83652.826627  83652.826627  83652.826627  83652.826627   \n",
              "6189  ...             38799.37198   38799.37198   38799.37198   38799.37198   \n",
              "6190  ...            187061.03038  187061.03038  187061.03038  187061.03038   \n",
              "6191  ...            57491.992646  57491.992646  57491.992646  57491.992646   \n",
              "6192  ...            35025.896987  35025.896987  35025.896987  35025.896987   \n",
              "\n",
              "         Magnacare Multiplan/Beechstreet/PHCS           QHM     Worldwide  \\\n",
              "0         393.5104                   393.5104      393.5104      393.5104   \n",
              "1         162.6752                   162.6752      162.6752      162.6752   \n",
              "2         634.7968                   634.7968      634.7968      634.7968   \n",
              "3          218.112                    218.112       218.112       218.112   \n",
              "4          218.112                    218.112       218.112       218.112   \n",
              "...            ...                        ...           ...           ...   \n",
              "6188  83652.826627               83652.826627  83652.826627  83652.826627   \n",
              "6189   38799.37198                38799.37198   38799.37198   38799.37198   \n",
              "6190  187061.03038               187061.03038  187061.03038  187061.03038   \n",
              "6191  57491.992646               57491.992646  57491.992646  57491.992646   \n",
              "6192  35025.896987               35025.896987  35025.896987  35025.896987   \n",
              "\n",
              "     Minimum Negotiated Charge Maximum Negotiated Charge  \n",
              "0                   253.048250               1388.424000  \n",
              "1                    51.903250               1990.891341  \n",
              "2                   253.048250               1475.508000  \n",
              "3                    82.650750               1325.120000  \n",
              "4                   156.982800               1325.120000  \n",
              "...                        ...                       ...  \n",
              "6188              12561.144027             115129.891480  \n",
              "6189               7833.746854              76664.518280  \n",
              "6190              21016.798830             214294.876425  \n",
              "6191              10429.428059              91907.692800  \n",
              "6192               5995.071552              50601.703360  \n",
              "\n",
              "[6193 rows x 47 columns]"
            ],
            "text/html": [
              "\n",
              "  <div id=\"df-e3a7b924-bac0-4eca-9ec6-37faf9190854\" class=\"colab-df-container\">\n",
              "    <div>\n",
              "<style scoped>\n",
              "    .dataframe tbody tr th:only-of-type {\n",
              "        vertical-align: middle;\n",
              "    }\n",
              "\n",
              "    .dataframe tbody tr th {\n",
              "        vertical-align: top;\n",
              "    }\n",
              "\n",
              "    .dataframe thead th {\n",
              "        text-align: right;\n",
              "    }\n",
              "</style>\n",
              "<table border=\"1\" class=\"dataframe\">\n",
              "  <thead>\n",
              "    <tr style=\"text-align: right;\">\n",
              "      <th></th>\n",
              "      <th>Code (CPT/DRG)</th>\n",
              "      <th>Description</th>\n",
              "      <th>Rev Code</th>\n",
              "      <th>Inpatient/Outpatient</th>\n",
              "      <th>Gross Charges</th>\n",
              "      <th>Discounted Cash Price</th>\n",
              "      <th>Aetna</th>\n",
              "      <th>Cigna</th>\n",
              "      <th>Empire Blue Cross Blue Shield</th>\n",
              "      <th>Emblem Health</th>\n",
              "      <th>...</th>\n",
              "      <th>Consumer Health Network</th>\n",
              "      <th>Devon</th>\n",
              "      <th>Equian</th>\n",
              "      <th>First Health</th>\n",
              "      <th>Magnacare</th>\n",
              "      <th>Multiplan/Beechstreet/PHCS</th>\n",
              "      <th>QHM</th>\n",
              "      <th>Worldwide</th>\n",
              "      <th>Minimum Negotiated Charge</th>\n",
              "      <th>Maximum Negotiated Charge</th>\n",
              "    </tr>\n",
              "  </thead>\n",
              "  <tbody>\n",
              "    <tr>\n",
              "      <th>0</th>\n",
              "      <td>96360</td>\n",
              "      <td>HC IV INFUSION HYDRATION INITIAL 31 MIN-1HR</td>\n",
              "      <td>0260</td>\n",
              "      <td>Inpatient/Outpatient</td>\n",
              "      <td>866.000000</td>\n",
              "      <td>866.000000</td>\n",
              "      <td>641.706</td>\n",
              "      <td>494.486</td>\n",
              "      <td>640.84</td>\n",
              "      <td>1388.424</td>\n",
              "      <td>...</td>\n",
              "      <td>393.5104</td>\n",
              "      <td>393.5104</td>\n",
              "      <td>393.5104</td>\n",
              "      <td>393.5104</td>\n",
              "      <td>393.5104</td>\n",
              "      <td>393.5104</td>\n",
              "      <td>393.5104</td>\n",
              "      <td>393.5104</td>\n",
              "      <td>253.048250</td>\n",
              "      <td>1388.424000</td>\n",
              "    </tr>\n",
              "    <tr>\n",
              "      <th>1</th>\n",
              "      <td>96361</td>\n",
              "      <td>HC IV INFUSION HYDRATION FLUIDS ADDL HR</td>\n",
              "      <td>0260</td>\n",
              "      <td>Inpatient/Outpatient</td>\n",
              "      <td>358.000000</td>\n",
              "      <td>358.000000</td>\n",
              "      <td>265.278</td>\n",
              "      <td>204.418</td>\n",
              "      <td>264.92</td>\n",
              "      <td>1305.112</td>\n",
              "      <td>...</td>\n",
              "      <td>162.6752</td>\n",
              "      <td>162.6752</td>\n",
              "      <td>162.6752</td>\n",
              "      <td>162.6752</td>\n",
              "      <td>162.6752</td>\n",
              "      <td>162.6752</td>\n",
              "      <td>162.6752</td>\n",
              "      <td>162.6752</td>\n",
              "      <td>51.903250</td>\n",
              "      <td>1990.891341</td>\n",
              "    </tr>\n",
              "    <tr>\n",
              "      <th>2</th>\n",
              "      <td>96365</td>\n",
              "      <td>HC IV INFUSION FOR THER/PROPH/DIAG INITIAL UP ...</td>\n",
              "      <td>0260</td>\n",
              "      <td>Inpatient/Outpatient</td>\n",
              "      <td>1397.000000</td>\n",
              "      <td>1397.000000</td>\n",
              "      <td>1035.177</td>\n",
              "      <td>797.687</td>\n",
              "      <td>1033.78</td>\n",
              "      <td>1475.508</td>\n",
              "      <td>...</td>\n",
              "      <td>634.7968</td>\n",
              "      <td>634.7968</td>\n",
              "      <td>634.7968</td>\n",
              "      <td>634.7968</td>\n",
              "      <td>634.7968</td>\n",
              "      <td>634.7968</td>\n",
              "      <td>634.7968</td>\n",
              "      <td>634.7968</td>\n",
              "      <td>253.048250</td>\n",
              "      <td>1475.508000</td>\n",
              "    </tr>\n",
              "    <tr>\n",
              "      <th>3</th>\n",
              "      <td>96367</td>\n",
              "      <td>HC IV INF THER/PROPH/DIAG ADDL SEQ NEW DRUG UP...</td>\n",
              "      <td>0260</td>\n",
              "      <td>Inpatient/Outpatient</td>\n",
              "      <td>480.000000</td>\n",
              "      <td>480.000000</td>\n",
              "      <td>355.68</td>\n",
              "      <td>274.08</td>\n",
              "      <td>355.2</td>\n",
              "      <td>1325.12</td>\n",
              "      <td>...</td>\n",
              "      <td>218.112</td>\n",
              "      <td>218.112</td>\n",
              "      <td>218.112</td>\n",
              "      <td>218.112</td>\n",
              "      <td>218.112</td>\n",
              "      <td>218.112</td>\n",
              "      <td>218.112</td>\n",
              "      <td>218.112</td>\n",
              "      <td>82.650750</td>\n",
              "      <td>1325.120000</td>\n",
              "    </tr>\n",
              "    <tr>\n",
              "      <th>4</th>\n",
              "      <td>96368</td>\n",
              "      <td>HC IV INFUSION FOR THER/PROPH/DIAG CONCURRENT</td>\n",
              "      <td>0260</td>\n",
              "      <td>Inpatient/Outpatient</td>\n",
              "      <td>480.000000</td>\n",
              "      <td>480.000000</td>\n",
              "      <td>355.68</td>\n",
              "      <td>274.08</td>\n",
              "      <td>355.2</td>\n",
              "      <td>1325.12</td>\n",
              "      <td>...</td>\n",
              "      <td>218.112</td>\n",
              "      <td>218.112</td>\n",
              "      <td>218.112</td>\n",
              "      <td>218.112</td>\n",
              "      <td>218.112</td>\n",
              "      <td>218.112</td>\n",
              "      <td>218.112</td>\n",
              "      <td>218.112</td>\n",
              "      <td>156.982800</td>\n",
              "      <td>1325.120000</td>\n",
              "    </tr>\n",
              "    <tr>\n",
              "      <th>...</th>\n",
              "      <td>...</td>\n",
              "      <td>...</td>\n",
              "      <td>...</td>\n",
              "      <td>...</td>\n",
              "      <td>...</td>\n",
              "      <td>...</td>\n",
              "      <td>...</td>\n",
              "      <td>...</td>\n",
              "      <td>...</td>\n",
              "      <td>...</td>\n",
              "      <td>...</td>\n",
              "      <td>...</td>\n",
              "      <td>...</td>\n",
              "      <td>...</td>\n",
              "      <td>...</td>\n",
              "      <td>...</td>\n",
              "      <td>...</td>\n",
              "      <td>...</td>\n",
              "      <td>...</td>\n",
              "      <td>...</td>\n",
              "      <td>...</td>\n",
              "    </tr>\n",
              "    <tr>\n",
              "      <th>6188</th>\n",
              "      <td>982</td>\n",
              "      <td>EXTENSIVE O.R. PROCEDURES UNRELATED TO PRINCIP...</td>\n",
              "      <td>Multiple</td>\n",
              "      <td>Inpatient</td>\n",
              "      <td>184095.129020</td>\n",
              "      <td>184095.129020</td>\n",
              "      <td>86723.5232</td>\n",
              "      <td>98911.694706</td>\n",
              "      <td>82299.84</td>\n",
              "      <td>115129.89148</td>\n",
              "      <td>...</td>\n",
              "      <td>83652.826627</td>\n",
              "      <td>83652.826627</td>\n",
              "      <td>83652.826627</td>\n",
              "      <td>83652.826627</td>\n",
              "      <td>83652.826627</td>\n",
              "      <td>83652.826627</td>\n",
              "      <td>83652.826627</td>\n",
              "      <td>83652.826627</td>\n",
              "      <td>12561.144027</td>\n",
              "      <td>115129.891480</td>\n",
              "    </tr>\n",
              "    <tr>\n",
              "      <th>6189</th>\n",
              "      <td>983</td>\n",
              "      <td>EXTENSIVE O.R. PROCEDURES UNRELATED TO PRINCIP...</td>\n",
              "      <td>Multiple</td>\n",
              "      <td>Inpatient</td>\n",
              "      <td>85385.941857</td>\n",
              "      <td>85385.941857</td>\n",
              "      <td>57748.8352</td>\n",
              "      <td>65864.888166</td>\n",
              "      <td>63931.455093</td>\n",
              "      <td>76664.51828</td>\n",
              "      <td>...</td>\n",
              "      <td>38799.37198</td>\n",
              "      <td>38799.37198</td>\n",
              "      <td>38799.37198</td>\n",
              "      <td>38799.37198</td>\n",
              "      <td>38799.37198</td>\n",
              "      <td>38799.37198</td>\n",
              "      <td>38799.37198</td>\n",
              "      <td>38799.37198</td>\n",
              "      <td>7833.746854</td>\n",
              "      <td>76664.518280</td>\n",
              "    </tr>\n",
              "    <tr>\n",
              "      <th>6190</th>\n",
              "      <td>987</td>\n",
              "      <td>NON-EXTENSIVE O.R. PROCEDURES UNRELATED TO PRI...</td>\n",
              "      <td>Multiple</td>\n",
              "      <td>Inpatient</td>\n",
              "      <td>411665.999955</td>\n",
              "      <td>411665.999955</td>\n",
              "      <td>114736.9984</td>\n",
              "      <td>130862.199072</td>\n",
              "      <td>214294.876425</td>\n",
              "      <td>152319.20576</td>\n",
              "      <td>...</td>\n",
              "      <td>187061.03038</td>\n",
              "      <td>187061.03038</td>\n",
              "      <td>187061.03038</td>\n",
              "      <td>187061.03038</td>\n",
              "      <td>187061.03038</td>\n",
              "      <td>187061.03038</td>\n",
              "      <td>187061.03038</td>\n",
              "      <td>187061.03038</td>\n",
              "      <td>21016.798830</td>\n",
              "      <td>214294.876425</td>\n",
              "    </tr>\n",
              "    <tr>\n",
              "      <th>6191</th>\n",
              "      <td>988</td>\n",
              "      <td>NON-EXTENSIVE O.R. PROCEDURES UNRELATED TO PRI...</td>\n",
              "      <td>Multiple</td>\n",
              "      <td>Inpatient</td>\n",
              "      <td>126522.871140</td>\n",
              "      <td>126522.871140</td>\n",
              "      <td>58654.7264</td>\n",
              "      <td>66898.093812</td>\n",
              "      <td>91907.6928</td>\n",
              "      <td>77867.13496</td>\n",
              "      <td>...</td>\n",
              "      <td>57491.992646</td>\n",
              "      <td>57491.992646</td>\n",
              "      <td>57491.992646</td>\n",
              "      <td>57491.992646</td>\n",
              "      <td>57491.992646</td>\n",
              "      <td>57491.992646</td>\n",
              "      <td>57491.992646</td>\n",
              "      <td>57491.992646</td>\n",
              "      <td>10429.428059</td>\n",
              "      <td>91907.692800</td>\n",
              "    </tr>\n",
              "    <tr>\n",
              "      <th>6192</th>\n",
              "      <td>989</td>\n",
              "      <td>NON-EXTENSIVE O.R. PROCEDURES UNRELATED TO PRI...</td>\n",
              "      <td>Multiple</td>\n",
              "      <td>Inpatient</td>\n",
              "      <td>77081.639496</td>\n",
              "      <td>77081.639496</td>\n",
              "      <td>38116.5824</td>\n",
              "      <td>43473.507792</td>\n",
              "      <td>44463.77208</td>\n",
              "      <td>50601.70336</td>\n",
              "      <td>...</td>\n",
              "      <td>35025.896987</td>\n",
              "      <td>35025.896987</td>\n",
              "      <td>35025.896987</td>\n",
              "      <td>35025.896987</td>\n",
              "      <td>35025.896987</td>\n",
              "      <td>35025.896987</td>\n",
              "      <td>35025.896987</td>\n",
              "      <td>35025.896987</td>\n",
              "      <td>5995.071552</td>\n",
              "      <td>50601.703360</td>\n",
              "    </tr>\n",
              "  </tbody>\n",
              "</table>\n",
              "<p>6193 rows × 47 columns</p>\n",
              "</div>\n",
              "    <div class=\"colab-df-buttons\">\n",
              "\n",
              "  <div class=\"colab-df-container\">\n",
              "    <button class=\"colab-df-convert\" onclick=\"convertToInteractive('df-e3a7b924-bac0-4eca-9ec6-37faf9190854')\"\n",
              "            title=\"Convert this dataframe to an interactive table.\"\n",
              "            style=\"display:none;\">\n",
              "\n",
              "  <svg xmlns=\"http://www.w3.org/2000/svg\" height=\"24px\" viewBox=\"0 -960 960 960\">\n",
              "    <path d=\"M120-120v-720h720v720H120Zm60-500h600v-160H180v160Zm220 220h160v-160H400v160Zm0 220h160v-160H400v160ZM180-400h160v-160H180v160Zm440 0h160v-160H620v160ZM180-180h160v-160H180v160Zm440 0h160v-160H620v160Z\"/>\n",
              "  </svg>\n",
              "    </button>\n",
              "\n",
              "  <style>\n",
              "    .colab-df-container {\n",
              "      display:flex;\n",
              "      gap: 12px;\n",
              "    }\n",
              "\n",
              "    .colab-df-convert {\n",
              "      background-color: #E8F0FE;\n",
              "      border: none;\n",
              "      border-radius: 50%;\n",
              "      cursor: pointer;\n",
              "      display: none;\n",
              "      fill: #1967D2;\n",
              "      height: 32px;\n",
              "      padding: 0 0 0 0;\n",
              "      width: 32px;\n",
              "    }\n",
              "\n",
              "    .colab-df-convert:hover {\n",
              "      background-color: #E2EBFA;\n",
              "      box-shadow: 0px 1px 2px rgba(60, 64, 67, 0.3), 0px 1px 3px 1px rgba(60, 64, 67, 0.15);\n",
              "      fill: #174EA6;\n",
              "    }\n",
              "\n",
              "    .colab-df-buttons div {\n",
              "      margin-bottom: 4px;\n",
              "    }\n",
              "\n",
              "    [theme=dark] .colab-df-convert {\n",
              "      background-color: #3B4455;\n",
              "      fill: #D2E3FC;\n",
              "    }\n",
              "\n",
              "    [theme=dark] .colab-df-convert:hover {\n",
              "      background-color: #434B5C;\n",
              "      box-shadow: 0px 1px 3px 1px rgba(0, 0, 0, 0.15);\n",
              "      filter: drop-shadow(0px 1px 2px rgba(0, 0, 0, 0.3));\n",
              "      fill: #FFFFFF;\n",
              "    }\n",
              "  </style>\n",
              "\n",
              "    <script>\n",
              "      const buttonEl =\n",
              "        document.querySelector('#df-e3a7b924-bac0-4eca-9ec6-37faf9190854 button.colab-df-convert');\n",
              "      buttonEl.style.display =\n",
              "        google.colab.kernel.accessAllowed ? 'block' : 'none';\n",
              "\n",
              "      async function convertToInteractive(key) {\n",
              "        const element = document.querySelector('#df-e3a7b924-bac0-4eca-9ec6-37faf9190854');\n",
              "        const dataTable =\n",
              "          await google.colab.kernel.invokeFunction('convertToInteractive',\n",
              "                                                    [key], {});\n",
              "        if (!dataTable) return;\n",
              "\n",
              "        const docLinkHtml = 'Like what you see? Visit the ' +\n",
              "          '<a target=\"_blank\" href=https://colab.research.google.com/notebooks/data_table.ipynb>data table notebook</a>'\n",
              "          + ' to learn more about interactive tables.';\n",
              "        element.innerHTML = '';\n",
              "        dataTable['output_type'] = 'display_data';\n",
              "        await google.colab.output.renderOutput(dataTable, element);\n",
              "        const docLink = document.createElement('div');\n",
              "        docLink.innerHTML = docLinkHtml;\n",
              "        element.appendChild(docLink);\n",
              "      }\n",
              "    </script>\n",
              "  </div>\n",
              "\n",
              "\n",
              "<div id=\"df-97dd5689-53d4-42cf-bb85-9802a1474a98\">\n",
              "  <button class=\"colab-df-quickchart\" onclick=\"quickchart('df-97dd5689-53d4-42cf-bb85-9802a1474a98')\"\n",
              "            title=\"Suggest charts.\"\n",
              "            style=\"display:none;\">\n",
              "\n",
              "<svg xmlns=\"http://www.w3.org/2000/svg\" height=\"24px\"viewBox=\"0 0 24 24\"\n",
              "     width=\"24px\">\n",
              "    <g>\n",
              "        <path d=\"M19 3H5c-1.1 0-2 .9-2 2v14c0 1.1.9 2 2 2h14c1.1 0 2-.9 2-2V5c0-1.1-.9-2-2-2zM9 17H7v-7h2v7zm4 0h-2V7h2v10zm4 0h-2v-4h2v4z\"/>\n",
              "    </g>\n",
              "</svg>\n",
              "  </button>\n",
              "\n",
              "<style>\n",
              "  .colab-df-quickchart {\n",
              "      --bg-color: #E8F0FE;\n",
              "      --fill-color: #1967D2;\n",
              "      --hover-bg-color: #E2EBFA;\n",
              "      --hover-fill-color: #174EA6;\n",
              "      --disabled-fill-color: #AAA;\n",
              "      --disabled-bg-color: #DDD;\n",
              "  }\n",
              "\n",
              "  [theme=dark] .colab-df-quickchart {\n",
              "      --bg-color: #3B4455;\n",
              "      --fill-color: #D2E3FC;\n",
              "      --hover-bg-color: #434B5C;\n",
              "      --hover-fill-color: #FFFFFF;\n",
              "      --disabled-bg-color: #3B4455;\n",
              "      --disabled-fill-color: #666;\n",
              "  }\n",
              "\n",
              "  .colab-df-quickchart {\n",
              "    background-color: var(--bg-color);\n",
              "    border: none;\n",
              "    border-radius: 50%;\n",
              "    cursor: pointer;\n",
              "    display: none;\n",
              "    fill: var(--fill-color);\n",
              "    height: 32px;\n",
              "    padding: 0;\n",
              "    width: 32px;\n",
              "  }\n",
              "\n",
              "  .colab-df-quickchart:hover {\n",
              "    background-color: var(--hover-bg-color);\n",
              "    box-shadow: 0 1px 2px rgba(60, 64, 67, 0.3), 0 1px 3px 1px rgba(60, 64, 67, 0.15);\n",
              "    fill: var(--button-hover-fill-color);\n",
              "  }\n",
              "\n",
              "  .colab-df-quickchart-complete:disabled,\n",
              "  .colab-df-quickchart-complete:disabled:hover {\n",
              "    background-color: var(--disabled-bg-color);\n",
              "    fill: var(--disabled-fill-color);\n",
              "    box-shadow: none;\n",
              "  }\n",
              "\n",
              "  .colab-df-spinner {\n",
              "    border: 2px solid var(--fill-color);\n",
              "    border-color: transparent;\n",
              "    border-bottom-color: var(--fill-color);\n",
              "    animation:\n",
              "      spin 1s steps(1) infinite;\n",
              "  }\n",
              "\n",
              "  @keyframes spin {\n",
              "    0% {\n",
              "      border-color: transparent;\n",
              "      border-bottom-color: var(--fill-color);\n",
              "      border-left-color: var(--fill-color);\n",
              "    }\n",
              "    20% {\n",
              "      border-color: transparent;\n",
              "      border-left-color: var(--fill-color);\n",
              "      border-top-color: var(--fill-color);\n",
              "    }\n",
              "    30% {\n",
              "      border-color: transparent;\n",
              "      border-left-color: var(--fill-color);\n",
              "      border-top-color: var(--fill-color);\n",
              "      border-right-color: var(--fill-color);\n",
              "    }\n",
              "    40% {\n",
              "      border-color: transparent;\n",
              "      border-right-color: var(--fill-color);\n",
              "      border-top-color: var(--fill-color);\n",
              "    }\n",
              "    60% {\n",
              "      border-color: transparent;\n",
              "      border-right-color: var(--fill-color);\n",
              "    }\n",
              "    80% {\n",
              "      border-color: transparent;\n",
              "      border-right-color: var(--fill-color);\n",
              "      border-bottom-color: var(--fill-color);\n",
              "    }\n",
              "    90% {\n",
              "      border-color: transparent;\n",
              "      border-bottom-color: var(--fill-color);\n",
              "    }\n",
              "  }\n",
              "</style>\n",
              "\n",
              "  <script>\n",
              "    async function quickchart(key) {\n",
              "      const quickchartButtonEl =\n",
              "        document.querySelector('#' + key + ' button');\n",
              "      quickchartButtonEl.disabled = true;  // To prevent multiple clicks.\n",
              "      quickchartButtonEl.classList.add('colab-df-spinner');\n",
              "      try {\n",
              "        const charts = await google.colab.kernel.invokeFunction(\n",
              "            'suggestCharts', [key], {});\n",
              "      } catch (error) {\n",
              "        console.error('Error during call to suggestCharts:', error);\n",
              "      }\n",
              "      quickchartButtonEl.classList.remove('colab-df-spinner');\n",
              "      quickchartButtonEl.classList.add('colab-df-quickchart-complete');\n",
              "    }\n",
              "    (() => {\n",
              "      let quickchartButtonEl =\n",
              "        document.querySelector('#df-97dd5689-53d4-42cf-bb85-9802a1474a98 button');\n",
              "      quickchartButtonEl.style.display =\n",
              "        google.colab.kernel.accessAllowed ? 'block' : 'none';\n",
              "    })();\n",
              "  </script>\n",
              "</div>\n",
              "    </div>\n",
              "  </div>\n"
            ]
          },
          "metadata": {},
          "execution_count": 150
        }
      ]
    },
    {
      "cell_type": "code",
      "source": [
        "# Shape\n",
        "Presbyterian_Hospital.shape"
      ],
      "metadata": {
        "colab": {
          "base_uri": "https://localhost:8080/"
        },
        "id": "5S33edlwxhGC",
        "outputId": "d28c7105-f196-4ed0-aabe-38da66aa6cdd"
      },
      "execution_count": null,
      "outputs": [
        {
          "output_type": "execute_result",
          "data": {
            "text/plain": [
              "(6193, 47)"
            ]
          },
          "metadata": {},
          "execution_count": 11
        }
      ]
    },
    {
      "cell_type": "code",
      "source": [
        "# Columns\n",
        "Presbyterian_Hospital.columns"
      ],
      "metadata": {
        "colab": {
          "base_uri": "https://localhost:8080/"
        },
        "id": "5f6wO3HkuRnM",
        "outputId": "82cc6fe4-e09a-480b-b17d-4404babd778d"
      },
      "execution_count": null,
      "outputs": [
        {
          "output_type": "execute_result",
          "data": {
            "text/plain": [
              "Index(['Code (CPT/DRG)', 'Description', 'Rev Code', 'Inpatient/Outpatient',\n",
              "       'Gross Charges', 'Discounted Cash Price', 'Aetna', 'Cigna',\n",
              "       'Empire Blue Cross Blue Shield', 'Emblem Health', 'United Health Group',\n",
              "       'Aetna Medicare', 'AgeWell Medicare', 'Emblem Medicare',\n",
              "       'Empire Medicare', 'Fidelis Medicare', 'Healthfirst Medicare',\n",
              "       'UHC Community Plan/United Medicare', 'VNS Medicare',\n",
              "       'WellCare Medicare', '1199', 'Affinity Molina Essential',\n",
              "       'Affinity Molina Medicaid/CHP', 'Amida Care Medicaid',\n",
              "       'Emblem Medicaid/CHP', 'Empire Healthplus Essential',\n",
              "       'Empire Healthplus Exchange', 'Empire Healthplus Medicaid/CHP',\n",
              "       'Fidelis Essential/Exchange', 'Fidelis Medicaid/CHP',\n",
              "       'Healthfirst Essential/Exchange', 'Healthfirst Medicaid/CHP',\n",
              "       'MVP Medicaid/CHP', 'MVP Essential', 'United Community Plan Essential',\n",
              "       'United Community Plan Medicaid', 'VNS Medicaid',\n",
              "       'Consumer Health Network', 'Devon', 'Equian', 'First Health',\n",
              "       'Magnacare', 'Multiplan/Beechstreet/PHCS', 'QHM', 'Worldwide',\n",
              "       'Minimum Negotiated Charge', 'Maximum Negotiated Charge'],\n",
              "      dtype='object')"
            ]
          },
          "metadata": {},
          "execution_count": 12
        }
      ]
    },
    {
      "cell_type": "code",
      "source": [
        "# Removing white spaces\n",
        "Presbyterian_Hospital.columns = Presbyterian_Hospital.columns.str.strip()\n",
        "Presbyterian_Hospital.columns"
      ],
      "metadata": {
        "colab": {
          "base_uri": "https://localhost:8080/"
        },
        "id": "Trhz3d34y3l0",
        "outputId": "a14d0d37-828e-474b-8d2c-5450298ca828"
      },
      "execution_count": null,
      "outputs": [
        {
          "output_type": "execute_result",
          "data": {
            "text/plain": [
              "Index(['Code(CPT/DRG)', 'Description', 'RevCode', 'Inpatient/Outpatient',\n",
              "       'GrossCharges', 'DiscountedCashPrice', 'Aetna', 'Cigna',\n",
              "       'EmpireBlueCrossBlueShield', 'EmblemHealth', 'UnitedHealthGroup',\n",
              "       'AetnaMedicare', 'AgeWellMedicare', 'EmblemMedicare', 'EmpireMedicare',\n",
              "       'FidelisMedicare', 'HealthfirstMedicare',\n",
              "       'UHCCommunityPlan/UnitedMedicare', 'VNSMedicare', 'WellCareMedicare',\n",
              "       '1199', 'AffinityMolinaEssential', 'AffinityMolinaMedicaid/CHP',\n",
              "       'AmidaCareMedicaid', 'EmblemMedicaid/CHP', 'EmpireHealthplusEssential',\n",
              "       'EmpireHealthplusExchange', 'EmpireHealthplusMedicaid/CHP',\n",
              "       'FidelisEssential/Exchange', 'FidelisMedicaid/CHP',\n",
              "       'HealthfirstEssential/Exchange', 'HealthfirstMedicaid/CHP',\n",
              "       'MVPMedicaid/CHP', 'MVPEssential', 'UnitedCommunityPlanEssential',\n",
              "       'UnitedCommunityPlanMedicaid', 'VNSMedicaid', 'ConsumerHealthNetwork',\n",
              "       'Devon', 'Equian', 'FirstHealth', 'Magnacare',\n",
              "       'Multiplan/Beechstreet/PHCS', 'QHM', 'Worldwide',\n",
              "       'MinimumNegotiatedCharge', 'MaximumNegotiatedCharge'],\n",
              "      dtype='object')"
            ]
          },
          "metadata": {},
          "execution_count": 17
        }
      ]
    },
    {
      "cell_type": "code",
      "source": [
        "# Identifying missing values\n",
        "missing_values = Presbyterian_Hospital.isna().sum()\n",
        "print(missing_values)"
      ],
      "metadata": {
        "colab": {
          "base_uri": "https://localhost:8080/"
        },
        "id": "HSYZKC-g0Lj0",
        "outputId": "3761a3ba-df97-4a89-b4d7-934d4cf02626"
      },
      "execution_count": 151,
      "outputs": [
        {
          "output_type": "stream",
          "name": "stdout",
          "text": [
            "Code (CPT/DRG)                          0\n",
            "Description                             0\n",
            "Rev Code                                0\n",
            "Inpatient/Outpatient                    0\n",
            "Gross Charges                           0\n",
            "Discounted Cash Price                   0\n",
            "Aetna                                   0\n",
            "Cigna                                   0\n",
            "Empire Blue Cross Blue Shield           0\n",
            "Emblem Health                           0\n",
            "United Health Group                     0\n",
            "Aetna Medicare                          0\n",
            "AgeWell Medicare                        0\n",
            "Emblem Medicare                         0\n",
            "Empire Medicare                         0\n",
            "Fidelis Medicare                        0\n",
            "Healthfirst Medicare                    0\n",
            "UHC Community Plan/United Medicare      0\n",
            "VNS Medicare                            0\n",
            "WellCare Medicare                       0\n",
            "1199                                    0\n",
            "Affinity Molina Essential               0\n",
            "Affinity Molina Medicaid/CHP            0\n",
            "Amida Care Medicaid                     0\n",
            "Emblem Medicaid/CHP                     0\n",
            "Empire Healthplus Essential             0\n",
            "Empire Healthplus Exchange              0\n",
            "Empire Healthplus Medicaid/CHP          0\n",
            "Fidelis Essential/Exchange              0\n",
            "Fidelis Medicaid/CHP                    0\n",
            "Healthfirst Essential/Exchange          0\n",
            "Healthfirst Medicaid/CHP                0\n",
            "MVP Medicaid/CHP                        0\n",
            "MVP Essential                           0\n",
            "United Community Plan Essential         0\n",
            "United Community Plan Medicaid          0\n",
            "VNS Medicaid                            0\n",
            "Consumer Health Network                 0\n",
            "Devon                                   0\n",
            "Equian                                  0\n",
            "First Health                            0\n",
            "Magnacare                               0\n",
            "Multiplan/Beechstreet/PHCS              0\n",
            "QHM                                     0\n",
            "Worldwide                               0\n",
            "Minimum Negotiated Charge             281\n",
            "Maximum Negotiated Charge             281\n",
            "dtype: int64\n"
          ]
        }
      ]
    },
    {
      "cell_type": "code",
      "source": [
        "Presbyterian_Hospital['Inpatient/Outpatient']\n",
        "Presbyterian_Hospital.dtypes"
      ],
      "metadata": {
        "colab": {
          "base_uri": "https://localhost:8080/"
        },
        "id": "91JXCwyT46f-",
        "outputId": "cd7a4298-37c3-49dc-a57d-a76b9f51be7c"
      },
      "execution_count": 152,
      "outputs": [
        {
          "output_type": "execute_result",
          "data": {
            "text/plain": [
              "Code (CPT/DRG)                         object\n",
              "Description                            object\n",
              "Rev Code                               object\n",
              "Inpatient/Outpatient                   object\n",
              "Gross Charges                         float64\n",
              "Discounted Cash Price                 float64\n",
              "Aetna                                  object\n",
              "Cigna                                  object\n",
              "Empire Blue Cross Blue Shield          object\n",
              "Emblem Health                          object\n",
              "United Health Group                    object\n",
              "Aetna Medicare                         object\n",
              "AgeWell Medicare                       object\n",
              "Emblem Medicare                        object\n",
              "Empire Medicare                        object\n",
              "Fidelis Medicare                       object\n",
              "Healthfirst Medicare                   object\n",
              "UHC Community Plan/United Medicare     object\n",
              "VNS Medicare                           object\n",
              "WellCare Medicare                      object\n",
              "1199                                   object\n",
              "Affinity Molina Essential              object\n",
              "Affinity Molina Medicaid/CHP           object\n",
              "Amida Care Medicaid                    object\n",
              "Emblem Medicaid/CHP                    object\n",
              "Empire Healthplus Essential            object\n",
              "Empire Healthplus Exchange             object\n",
              "Empire Healthplus Medicaid/CHP         object\n",
              "Fidelis Essential/Exchange             object\n",
              "Fidelis Medicaid/CHP                   object\n",
              "Healthfirst Essential/Exchange         object\n",
              "Healthfirst Medicaid/CHP               object\n",
              "MVP Medicaid/CHP                       object\n",
              "MVP Essential                          object\n",
              "United Community Plan Essential        object\n",
              "United Community Plan Medicaid         object\n",
              "VNS Medicaid                           object\n",
              "Consumer Health Network                object\n",
              "Devon                                  object\n",
              "Equian                                 object\n",
              "First Health                           object\n",
              "Magnacare                              object\n",
              "Multiplan/Beechstreet/PHCS             object\n",
              "QHM                                    object\n",
              "Worldwide                              object\n",
              "Minimum Negotiated Charge             float64\n",
              "Maximum Negotiated Charge             float64\n",
              "dtype: object"
            ]
          },
          "metadata": {},
          "execution_count": 152
        }
      ]
    },
    {
      "cell_type": "code",
      "source": [
        "# Descriptive statistics\n",
        "descriptive_stats = Presbyterian_Hospital.describe()\n",
        "print(descriptive_stats)"
      ],
      "metadata": {
        "colab": {
          "base_uri": "https://localhost:8080/"
        },
        "id": "enDfyDW02wvq",
        "outputId": "25e948e2-fd69-43e1-d216-28ff8b50ddb7"
      },
      "execution_count": 153,
      "outputs": [
        {
          "output_type": "stream",
          "name": "stdout",
          "text": [
            "       Gross Charges  Discounted Cash Price  Minimum Negotiated Charge  \\\n",
            "count   6.193000e+03           6.193000e+03                5912.000000   \n",
            "mean    3.385988e+04           3.385988e+04                2249.918880   \n",
            "std     1.062409e+05           1.062409e+05                6015.717204   \n",
            "min     1.000000e+00           1.000000e+00                   0.454400   \n",
            "25%     5.970000e+02           5.970000e+02                 122.228437   \n",
            "50%     3.925000e+03           3.925000e+03                 431.142905   \n",
            "75%     3.033600e+04           3.033600e+04                2107.000000   \n",
            "max     2.538980e+06           2.538980e+06              204861.126000   \n",
            "\n",
            "       Maximum Negotiated Charge  \n",
            "count               5.912000e+03  \n",
            "mean                2.390277e+04  \n",
            "std                 7.136503e+04  \n",
            "min                 1.608000e+00  \n",
            "25%                 6.380010e+02  \n",
            "50%                 4.086731e+03  \n",
            "75%                 1.925640e+04  \n",
            "max                 1.713460e+06  \n"
          ]
        }
      ]
    },
    {
      "cell_type": "markdown",
      "source": [
        "### Frequency counts"
      ],
      "metadata": {
        "id": "VyM-5iE64Z5u"
      }
    },
    {
      "cell_type": "code",
      "source": [
        "from pandas.core.series import Frequency\n",
        "\n",
        "frequency_counts = Presbyterian_Hospital['Inpatient/Outpatient'].value_counts()\n",
        "print(frequency_counts)"
      ],
      "metadata": {
        "colab": {
          "base_uri": "https://localhost:8080/"
        },
        "id": "AGASA1LL3ahx",
        "outputId": "b4196d26-041a-491d-af05-98cbd6f9f624"
      },
      "execution_count": null,
      "outputs": [
        {
          "output_type": "stream",
          "name": "stdout",
          "text": [
            "Inpatient/Outpatient    5470\n",
            "Inpatient                723\n",
            "Name: Inpatient/Outpatient, dtype: int64\n"
          ]
        }
      ]
    },
    {
      "cell_type": "code",
      "source": [
        "frequency_counts = Presbyterian_Hospital['Description'].value_counts()\n",
        "print(frequency_counts)"
      ],
      "metadata": {
        "colab": {
          "base_uri": "https://localhost:8080/"
        },
        "id": "KtxaK2NM4Foa",
        "outputId": "afc9c2a1-654b-4118-b22e-10db5582c309"
      },
      "execution_count": 154,
      "outputs": [
        {
          "output_type": "stream",
          "name": "stdout",
          "text": [
            "KNEE ARTHROSCOPY/SURGERY                                                         16\n",
            "REPAIR EYELID DEFECT                                                             12\n",
            "CYSTOSCOPY AND TREATMENT                                                         12\n",
            "TREAT HUMERUS FRACTURE                                                            9\n",
            "SHOULDER ARTHROSCOPY/SURGERY                                                      7\n",
            "                                                                                 ..\n",
            "AMPUTATION TOE METATARSAL                                                         1\n",
            "AMPUTATION THRU METATARSAL                                                        1\n",
            "AMPUTATION OF MIDFOOT                                                             1\n",
            "REVISION OF FOOT BONES                                                            1\n",
            "NON-EXTENSIVE O.R. PROCEDURES UNRELATED TO PRINCIPAL DIAGNOSIS WITHOUT CC/MCC     1\n",
            "Name: Description, Length: 5925, dtype: int64\n"
          ]
        }
      ]
    },
    {
      "cell_type": "code",
      "source": [
        "frequency_counts = Presbyterian_Hospital['Aetna'].value_counts()\n",
        "print(frequency_counts)"
      ],
      "metadata": {
        "colab": {
          "base_uri": "https://localhost:8080/"
        },
        "id": "f1Dq-3lf4Qjl",
        "outputId": "161d33b7-185c-4122-ee87-f24e8a9f9834"
      },
      "execution_count": null,
      "outputs": [
        {
          "output_type": "stream",
          "name": "stdout",
          "text": [
            "9144                           1652\n",
            "Not separately payable         1249\n",
            "Included in Service Package     234\n",
            "2846                            108\n",
            "17784                            75\n",
            "                               ... \n",
            "7747.896                          1\n",
            "6860.178                          1\n",
            "1469.403                          1\n",
            "493.506                           1\n",
            "38116.5824                        1\n",
            "Name: Aetna, Length: 2111, dtype: int64\n"
          ]
        }
      ]
    },
    {
      "cell_type": "code",
      "source": [
        "frequency_counts = Presbyterian_Hospital['First Health'].value_counts()\n",
        "print(frequency_counts)"
      ],
      "metadata": {
        "colab": {
          "base_uri": "https://localhost:8080/"
        },
        "id": "9zO1AY285VI1",
        "outputId": "01565eb1-6699-459a-bf27-e48ddb76da31"
      },
      "execution_count": null,
      "outputs": [
        {
          "output_type": "stream",
          "name": "stdout",
          "text": [
            "Included in Service Package    234\n",
            "Patient responsibility          47\n",
            "55.4368                         32\n",
            "1516.3328                       29\n",
            "1160.0832                       27\n",
            "                              ... \n",
            "9940                             1\n",
            "9591.4752                        1\n",
            "6383.8656                        1\n",
            "12465.5552                       1\n",
            "35025.8969869067                 1\n",
            "Name: First Health, Length: 3988, dtype: int64\n"
          ]
        }
      ]
    },
    {
      "cell_type": "code",
      "source": [
        "# Data distribution\n",
        "plt.hist(Presbyterian_Hospital['Gross Charges'], bins=20)\n",
        "plt.xlabel('Values')\n",
        "plt.ylabel('Frequency')\n",
        "plt.title('Data Distribution of Gross Charges')\n",
        "plt.show()"
      ],
      "metadata": {
        "colab": {
          "base_uri": "https://localhost:8080/",
          "height": 472
        },
        "id": "aO0IsBCCmfoW",
        "outputId": "8f946937-f515-4b80-c671-212e97015ce2"
      },
      "execution_count": 155,
      "outputs": [
        {
          "output_type": "display_data",
          "data": {
            "text/plain": [
              "<Figure size 640x480 with 1 Axes>"
            ],
            "image/png": "[encoded data removed]"
          },
          "metadata": {}
        }
      ]
    },
    {
      "cell_type": "markdown",
      "source": [
        "# SQlite"
      ],
      "metadata": {
        "id": "DNjBVMMm5lsQ"
      }
    },
    {
      "cell_type": "code",
      "source": [
        "\n",
        "conn = sqlite3.connect('health.db')\n",
        "c = conn.cursor()"
      ],
      "metadata": {
        "id": "dFxagiv15nZW"
      },
      "execution_count": 71,
      "outputs": []
    },
    {
      "cell_type": "code",
      "source": [
        "# Creating table\n",
        "c.execute(\"\"\"\n",
        "            CREATE TABLE City_md\n",
        "                (\n",
        "                    location text,\n",
        "                    procedure text,\n",
        "                    code text,\n",
        "                    cost_minimum real,\n",
        "                    cost_maximum real\n",
        "                );\n",
        "          \"\"\")\n",
        "\n",
        "conn.commit()"
      ],
      "metadata": {
        "id": "YyZv17zt7ish"
      },
      "execution_count": null,
      "outputs": []
    },
    {
      "cell_type": "code",
      "source": [
        "\n",
        "c.execute('''\n",
        "  SELECT name\n",
        "  FROM sqlite_master\n",
        "  WHERE type='table';\n",
        "  ''')\n",
        "\n",
        "c.fetchall()\n"
      ],
      "metadata": {
        "colab": {
          "base_uri": "https://localhost:8080/"
        },
        "id": "FcldaCaN9I-F",
        "outputId": "80613eaa-6511-4709-eabe-e2325b737506"
      },
      "execution_count": null,
      "outputs": [
        {
          "output_type": "execute_result",
          "data": {
            "text/plain": [
              "[('City_md',)]"
            ]
          },
          "metadata": {},
          "execution_count": 35
        }
      ]
    },
    {
      "cell_type": "code",
      "source": [
        "c.execute('''\n",
        "  SELECT * FROM City_md;\n",
        "''')\n",
        "\n",
        "print(c.fetchall())\n"
      ],
      "metadata": {
        "colab": {
          "base_uri": "https://localhost:8080/"
        },
        "id": "0mFL0dfw9PtA",
        "outputId": "2997722e-c2e6-4be8-b477-e55f6d222dff"
      },
      "execution_count": null,
      "outputs": [
        {
          "output_type": "stream",
          "name": "stdout",
          "text": [
            "[]\n"
          ]
        }
      ]
    },
    {
      "cell_type": "code",
      "source": [
        "# Inserting data\n",
        "sql_query = \"\"\"\n",
        "\n",
        "INSERT INTO City_md (\n",
        "  'location',\n",
        "  'procedure',\n",
        "  'code',\n",
        "  'cost_minimum',\n",
        "  'cost_maximum'\n",
        "  )\n",
        "  values (\n",
        "    'levittown',\n",
        "    'emergency',\n",
        "    '22524',\n",
        "    1.00,\n",
        "    1000.00\n",
        "  );\n",
        "\n",
        "\"\"\"\n",
        "\n",
        "print(sql_query)"
      ],
      "metadata": {
        "colab": {
          "base_uri": "https://localhost:8080/"
        },
        "id": "895xnqu39BmU",
        "outputId": "7530ac5c-43bc-4d0a-bbe9-7833c33505e8"
      },
      "execution_count": null,
      "outputs": [
        {
          "output_type": "stream",
          "name": "stdout",
          "text": [
            "\n",
            "\n",
            "INSERT INTO City_md (\n",
            "  'location',\n",
            "  'procedure',\n",
            "  'code',\n",
            "  'cost_minimum',\n",
            "  'cost_maximum'\n",
            "  )\n",
            "  values (\n",
            "    'levittown',\n",
            "    'emergency',\n",
            "    '22524',\n",
            "    1.00,\n",
            "    1000.00\n",
            "  );\n",
            "\n",
            "\n"
          ]
        }
      ]
    },
    {
      "cell_type": "code",
      "source": [
        "\n",
        "c.execute(sql_query)\n",
        "conn.commit()\n"
      ],
      "metadata": {
        "id": "sWw0GkcZ9x5M"
      },
      "execution_count": null,
      "outputs": []
    },
    {
      "cell_type": "code",
      "source": [
        "\n",
        "sql_query_2 = \"\"\"\n",
        "\n",
        "select *\n",
        "from City_md;\n",
        "\n",
        "\"\"\"\n",
        "\n",
        "c.execute(sql_query_2)\n",
        "print(c.fetchall())\n"
      ],
      "metadata": {
        "colab": {
          "base_uri": "https://localhost:8080/"
        },
        "id": "8LFuI_nG98Ut",
        "outputId": "a61745b7-5006-4892-d262-7f06f9aca4d4"
      },
      "execution_count": 72,
      "outputs": [
        {
          "output_type": "stream",
          "name": "stderr",
          "text": [
            "IOPub data rate exceeded.\n",
            "The notebook server will temporarily stop sending output\n",
            "to the client in order to avoid crashing it.\n",
            "To change this limit, set the config variable\n",
            "`--NotebookApp.iopub_data_rate_limit`.\n",
            "\n",
            "Current values:\n",
            "NotebookApp.iopub_data_rate_limit=1000000.0 (bytes/sec)\n",
            "NotebookApp.rate_limit_window=3.0 (secs)\n",
            "\n"
          ]
        }
      ]
    },
    {
      "cell_type": "code",
      "source": [
        "engine = create_engine('sqlite:///health.db')\n",
        "\n",
        "pd.read_sql_query(\"select * from City_md;\", conn)"
      ],
      "metadata": {
        "colab": {
          "base_uri": "https://localhost:8080/",
          "height": 81
        },
        "id": "vuRallrR-c_g",
        "outputId": "7b9cd212-6dbd-49d5-a1f3-b7c0bf0aa235"
      },
      "execution_count": null,
      "outputs": [
        {
          "output_type": "execute_result",
          "data": {
            "text/plain": [
              "    location  procedure   code  cost_minimum  cost_maximum\n",
              "0  levittown  emergency  22524           1.0        1000.0"
            ],
            "text/html": [
              "\n",
              "  <div id=\"df-b7faa297-4337-43f3-851a-34b09cc345ea\" class=\"colab-df-container\">\n",
              "    <div>\n",
              "<style scoped>\n",
              "    .dataframe tbody tr th:only-of-type {\n",
              "        vertical-align: middle;\n",
              "    }\n",
              "\n",
              "    .dataframe tbody tr th {\n",
              "        vertical-align: top;\n",
              "    }\n",
              "\n",
              "    .dataframe thead th {\n",
              "        text-align: right;\n",
              "    }\n",
              "</style>\n",
              "<table border=\"1\" class=\"dataframe\">\n",
              "  <thead>\n",
              "    <tr style=\"text-align: right;\">\n",
              "      <th></th>\n",
              "      <th>location</th>\n",
              "      <th>procedure</th>\n",
              "      <th>code</th>\n",
              "      <th>cost_minimum</th>\n",
              "      <th>cost_maximum</th>\n",
              "    </tr>\n",
              "  </thead>\n",
              "  <tbody>\n",
              "    <tr>\n",
              "      <th>0</th>\n",
              "      <td>levittown</td>\n",
              "      <td>emergency</td>\n",
              "      <td>22524</td>\n",
              "      <td>1.0</td>\n",
              "      <td>1000.0</td>\n",
              "    </tr>\n",
              "  </tbody>\n",
              "</table>\n",
              "</div>\n",
              "    <div class=\"colab-df-buttons\">\n",
              "\n",
              "  <div class=\"colab-df-container\">\n",
              "    <button class=\"colab-df-convert\" onclick=\"convertToInteractive('df-b7faa297-4337-43f3-851a-34b09cc345ea')\"\n",
              "            title=\"Convert this dataframe to an interactive table.\"\n",
              "            style=\"display:none;\">\n",
              "\n",
              "  <svg xmlns=\"http://www.w3.org/2000/svg\" height=\"24px\" viewBox=\"0 -960 960 960\">\n",
              "    <path d=\"M120-120v-720h720v720H120Zm60-500h600v-160H180v160Zm220 220h160v-160H400v160Zm0 220h160v-160H400v160ZM180-400h160v-160H180v160Zm440 0h160v-160H620v160ZM180-180h160v-160H180v160Zm440 0h160v-160H620v160Z\"/>\n",
              "  </svg>\n",
              "    </button>\n",
              "\n",
              "  <style>\n",
              "    .colab-df-container {\n",
              "      display:flex;\n",
              "      gap: 12px;\n",
              "    }\n",
              "\n",
              "    .colab-df-convert {\n",
              "      background-color: #E8F0FE;\n",
              "      border: none;\n",
              "      border-radius: 50%;\n",
              "      cursor: pointer;\n",
              "      display: none;\n",
              "      fill: #1967D2;\n",
              "      height: 32px;\n",
              "      padding: 0 0 0 0;\n",
              "      width: 32px;\n",
              "    }\n",
              "\n",
              "    .colab-df-convert:hover {\n",
              "      background-color: #E2EBFA;\n",
              "      box-shadow: 0px 1px 2px rgba(60, 64, 67, 0.3), 0px 1px 3px 1px rgba(60, 64, 67, 0.15);\n",
              "      fill: #174EA6;\n",
              "    }\n",
              "\n",
              "    .colab-df-buttons div {\n",
              "      margin-bottom: 4px;\n",
              "    }\n",
              "\n",
              "    [theme=dark] .colab-df-convert {\n",
              "      background-color: #3B4455;\n",
              "      fill: #D2E3FC;\n",
              "    }\n",
              "\n",
              "    [theme=dark] .colab-df-convert:hover {\n",
              "      background-color: #434B5C;\n",
              "      box-shadow: 0px 1px 3px 1px rgba(0, 0, 0, 0.15);\n",
              "      filter: drop-shadow(0px 1px 2px rgba(0, 0, 0, 0.3));\n",
              "      fill: #FFFFFF;\n",
              "    }\n",
              "  </style>\n",
              "\n",
              "    <script>\n",
              "      const buttonEl =\n",
              "        document.querySelector('#df-b7faa297-4337-43f3-851a-34b09cc345ea button.colab-df-convert');\n",
              "      buttonEl.style.display =\n",
              "        google.colab.kernel.accessAllowed ? 'block' : 'none';\n",
              "\n",
              "      async function convertToInteractive(key) {\n",
              "        const element = document.querySelector('#df-b7faa297-4337-43f3-851a-34b09cc345ea');\n",
              "        const dataTable =\n",
              "          await google.colab.kernel.invokeFunction('convertToInteractive',\n",
              "                                                    [key], {});\n",
              "        if (!dataTable) return;\n",
              "\n",
              "        const docLinkHtml = 'Like what you see? Visit the ' +\n",
              "          '<a target=\"_blank\" href=https://colab.research.google.com/notebooks/data_table.ipynb>data table notebook</a>'\n",
              "          + ' to learn more about interactive tables.';\n",
              "        element.innerHTML = '';\n",
              "        dataTable['output_type'] = 'display_data';\n",
              "        await google.colab.output.renderOutput(dataTable, element);\n",
              "        const docLink = document.createElement('div');\n",
              "        docLink.innerHTML = docLinkHtml;\n",
              "        element.appendChild(docLink);\n",
              "      }\n",
              "    </script>\n",
              "  </div>\n",
              "\n",
              "    </div>\n",
              "  </div>\n"
            ]
          },
          "metadata": {},
          "execution_count": 41
        }
      ]
    },
    {
      "cell_type": "code",
      "source": [
        "Presbyterian_Hospital.to_sql('code', conn,\n",
        "                             if_exists='replace', index=False)"
      ],
      "metadata": {
        "colab": {
          "base_uri": "https://localhost:8080/"
        },
        "id": "G38gjoKc_pC4",
        "outputId": "59ae25ef-75af-41fb-cb1f-c4636655299c"
      },
      "execution_count": null,
      "outputs": [
        {
          "output_type": "execute_result",
          "data": {
            "text/plain": [
              "6193"
            ]
          },
          "metadata": {},
          "execution_count": 45
        }
      ]
    },
    {
      "cell_type": "code",
      "source": [
        "columnNames = list(Presbyterian_Hospital)\n",
        "idVars = columnNames[:8]\n",
        "valueVars = columnNames[8:]\n",
        "\n",
        "City_md_modified = Presbyterian_Hospital.melt(id_vars=idVars, value_vars=valueVars)\n",
        "\n",
        "City_md_modified.columns\n",
        "\n",
        "City_md_modified.rename(columns={'HospCode':'hospital_name',\n",
        "            'variable':'insurance_type',\n",
        "            'Code':'code',\n",
        "            'Description':'code_description',\n",
        "             'value':'cost_negotiated',\n",
        "             'Minimum Negotiated Charge':'cost_minimum',\n",
        "             'Maximum Negotiated Charge': 'cost_maximum'}, inplace=True)\n",
        "\n",
        "City_md_modified['insurance_type'].value_counts()\n",
        "\n",
        "City_md_modified"
      ],
      "metadata": {
        "colab": {
          "base_uri": "https://localhost:8080/",
          "height": 424
        },
        "id": "wO71yN7aAgSy",
        "outputId": "332f4e31-85a7-4c1a-b419-0c6ce4fbfdd9"
      },
      "execution_count": null,
      "outputs": [
        {
          "output_type": "execute_result",
          "data": {
            "text/plain": [
              "       Code (CPT/DRG)                                   code_description  \\\n",
              "0               96360        HC IV INFUSION HYDRATION INITIAL 31 MIN-1HR   \n",
              "1               96361            HC IV INFUSION HYDRATION FLUIDS ADDL HR   \n",
              "2               96365  HC IV INFUSION FOR THER/PROPH/DIAG INITIAL UP ...   \n",
              "3               96367  HC IV INF THER/PROPH/DIAG ADDL SEQ NEW DRUG UP...   \n",
              "4               96368      HC IV INFUSION FOR THER/PROPH/DIAG CONCURRENT   \n",
              "...               ...                                                ...   \n",
              "241522            982  EXTENSIVE O.R. PROCEDURES UNRELATED TO PRINCIP...   \n",
              "241523            983  EXTENSIVE O.R. PROCEDURES UNRELATED TO PRINCIP...   \n",
              "241524            987  NON-EXTENSIVE O.R. PROCEDURES UNRELATED TO PRI...   \n",
              "241525            988  NON-EXTENSIVE O.R. PROCEDURES UNRELATED TO PRI...   \n",
              "241526            989  NON-EXTENSIVE O.R. PROCEDURES UNRELATED TO PRI...   \n",
              "\n",
              "        Rev Code  Inpatient/Outpatient  Gross Charges  Discounted Cash Price  \\\n",
              "0           0260  Inpatient/Outpatient     866.000000             866.000000   \n",
              "1           0260  Inpatient/Outpatient     358.000000             358.000000   \n",
              "2           0260  Inpatient/Outpatient    1397.000000            1397.000000   \n",
              "3           0260  Inpatient/Outpatient     480.000000             480.000000   \n",
              "4           0260  Inpatient/Outpatient     480.000000             480.000000   \n",
              "...          ...                   ...            ...                    ...   \n",
              "241522  Multiple             Inpatient  184095.129020          184095.129020   \n",
              "241523  Multiple             Inpatient   85385.941857           85385.941857   \n",
              "241524  Multiple             Inpatient  411665.999955          411665.999955   \n",
              "241525  Multiple             Inpatient  126522.871140          126522.871140   \n",
              "241526  Multiple             Inpatient   77081.639496           77081.639496   \n",
              "\n",
              "              Aetna          Cigna                 insurance_type  \\\n",
              "0           641.706        494.486  Empire Blue Cross Blue Shield   \n",
              "1           265.278        204.418  Empire Blue Cross Blue Shield   \n",
              "2          1035.177        797.687  Empire Blue Cross Blue Shield   \n",
              "3            355.68         274.08  Empire Blue Cross Blue Shield   \n",
              "4            355.68         274.08  Empire Blue Cross Blue Shield   \n",
              "...             ...            ...                            ...   \n",
              "241522   86723.5232   98911.694706      Maximum Negotiated Charge   \n",
              "241523   57748.8352   65864.888166      Maximum Negotiated Charge   \n",
              "241524  114736.9984  130862.199072      Maximum Negotiated Charge   \n",
              "241525   58654.7264   66898.093812      Maximum Negotiated Charge   \n",
              "241526   38116.5824   43473.507792      Maximum Negotiated Charge   \n",
              "\n",
              "       cost_negotiated  \n",
              "0               640.84  \n",
              "1               264.92  \n",
              "2              1033.78  \n",
              "3                355.2  \n",
              "4                355.2  \n",
              "...                ...  \n",
              "241522    115129.89148  \n",
              "241523     76664.51828  \n",
              "241524   214294.876425  \n",
              "241525      91907.6928  \n",
              "241526     50601.70336  \n",
              "\n",
              "[241527 rows x 10 columns]"
            ],
            "text/html": [
              "\n",
              "  <div id=\"df-1abc80b1-db04-4b6d-8e4e-c95eef05db4d\" class=\"colab-df-container\">\n",
              "    <div>\n",
              "<style scoped>\n",
              "    .dataframe tbody tr th:only-of-type {\n",
              "        vertical-align: middle;\n",
              "    }\n",
              "\n",
              "    .dataframe tbody tr th {\n",
              "        vertical-align: top;\n",
              "    }\n",
              "\n",
              "    .dataframe thead th {\n",
              "        text-align: right;\n",
              "    }\n",
              "</style>\n",
              "<table border=\"1\" class=\"dataframe\">\n",
              "  <thead>\n",
              "    <tr style=\"text-align: right;\">\n",
              "      <th></th>\n",
              "      <th>Code (CPT/DRG)</th>\n",
              "      <th>code_description</th>\n",
              "      <th>Rev Code</th>\n",
              "      <th>Inpatient/Outpatient</th>\n",
              "      <th>Gross Charges</th>\n",
              "      <th>Discounted Cash Price</th>\n",
              "      <th>Aetna</th>\n",
              "      <th>Cigna</th>\n",
              "      <th>insurance_type</th>\n",
              "      <th>cost_negotiated</th>\n",
              "    </tr>\n",
              "  </thead>\n",
              "  <tbody>\n",
              "    <tr>\n",
              "      <th>0</th>\n",
              "      <td>96360</td>\n",
              "      <td>HC IV INFUSION HYDRATION INITIAL 31 MIN-1HR</td>\n",
              "      <td>0260</td>\n",
              "      <td>Inpatient/Outpatient</td>\n",
              "      <td>866.000000</td>\n",
              "      <td>866.000000</td>\n",
              "      <td>641.706</td>\n",
              "      <td>494.486</td>\n",
              "      <td>Empire Blue Cross Blue Shield</td>\n",
              "      <td>640.84</td>\n",
              "    </tr>\n",
              "    <tr>\n",
              "      <th>1</th>\n",
              "      <td>96361</td>\n",
              "      <td>HC IV INFUSION HYDRATION FLUIDS ADDL HR</td>\n",
              "      <td>0260</td>\n",
              "      <td>Inpatient/Outpatient</td>\n",
              "      <td>358.000000</td>\n",
              "      <td>358.000000</td>\n",
              "      <td>265.278</td>\n",
              "      <td>204.418</td>\n",
              "      <td>Empire Blue Cross Blue Shield</td>\n",
              "      <td>264.92</td>\n",
              "    </tr>\n",
              "    <tr>\n",
              "      <th>2</th>\n",
              "      <td>96365</td>\n",
              "      <td>HC IV INFUSION FOR THER/PROPH/DIAG INITIAL UP ...</td>\n",
              "      <td>0260</td>\n",
              "      <td>Inpatient/Outpatient</td>\n",
              "      <td>1397.000000</td>\n",
              "      <td>1397.000000</td>\n",
              "      <td>1035.177</td>\n",
              "      <td>797.687</td>\n",
              "      <td>Empire Blue Cross Blue Shield</td>\n",
              "      <td>1033.78</td>\n",
              "    </tr>\n",
              "    <tr>\n",
              "      <th>3</th>\n",
              "      <td>96367</td>\n",
              "      <td>HC IV INF THER/PROPH/DIAG ADDL SEQ NEW DRUG UP...</td>\n",
              "      <td>0260</td>\n",
              "      <td>Inpatient/Outpatient</td>\n",
              "      <td>480.000000</td>\n",
              "      <td>480.000000</td>\n",
              "      <td>355.68</td>\n",
              "      <td>274.08</td>\n",
              "      <td>Empire Blue Cross Blue Shield</td>\n",
              "      <td>355.2</td>\n",
              "    </tr>\n",
              "    <tr>\n",
              "      <th>4</th>\n",
              "      <td>96368</td>\n",
              "      <td>HC IV INFUSION FOR THER/PROPH/DIAG CONCURRENT</td>\n",
              "      <td>0260</td>\n",
              "      <td>Inpatient/Outpatient</td>\n",
              "      <td>480.000000</td>\n",
              "      <td>480.000000</td>\n",
              "      <td>355.68</td>\n",
              "      <td>274.08</td>\n",
              "      <td>Empire Blue Cross Blue Shield</td>\n",
              "      <td>355.2</td>\n",
              "    </tr>\n",
              "    <tr>\n",
              "      <th>...</th>\n",
              "      <td>...</td>\n",
              "      <td>...</td>\n",
              "      <td>...</td>\n",
              "      <td>...</td>\n",
              "      <td>...</td>\n",
              "      <td>...</td>\n",
              "      <td>...</td>\n",
              "      <td>...</td>\n",
              "      <td>...</td>\n",
              "      <td>...</td>\n",
              "    </tr>\n",
              "    <tr>\n",
              "      <th>241522</th>\n",
              "      <td>982</td>\n",
              "      <td>EXTENSIVE O.R. PROCEDURES UNRELATED TO PRINCIP...</td>\n",
              "      <td>Multiple</td>\n",
              "      <td>Inpatient</td>\n",
              "      <td>184095.129020</td>\n",
              "      <td>184095.129020</td>\n",
              "      <td>86723.5232</td>\n",
              "      <td>98911.694706</td>\n",
              "      <td>Maximum Negotiated Charge</td>\n",
              "      <td>115129.89148</td>\n",
              "    </tr>\n",
              "    <tr>\n",
              "      <th>241523</th>\n",
              "      <td>983</td>\n",
              "      <td>EXTENSIVE O.R. PROCEDURES UNRELATED TO PRINCIP...</td>\n",
              "      <td>Multiple</td>\n",
              "      <td>Inpatient</td>\n",
              "      <td>85385.941857</td>\n",
              "      <td>85385.941857</td>\n",
              "      <td>57748.8352</td>\n",
              "      <td>65864.888166</td>\n",
              "      <td>Maximum Negotiated Charge</td>\n",
              "      <td>76664.51828</td>\n",
              "    </tr>\n",
              "    <tr>\n",
              "      <th>241524</th>\n",
              "      <td>987</td>\n",
              "      <td>NON-EXTENSIVE O.R. PROCEDURES UNRELATED TO PRI...</td>\n",
              "      <td>Multiple</td>\n",
              "      <td>Inpatient</td>\n",
              "      <td>411665.999955</td>\n",
              "      <td>411665.999955</td>\n",
              "      <td>114736.9984</td>\n",
              "      <td>130862.199072</td>\n",
              "      <td>Maximum Negotiated Charge</td>\n",
              "      <td>214294.876425</td>\n",
              "    </tr>\n",
              "    <tr>\n",
              "      <th>241525</th>\n",
              "      <td>988</td>\n",
              "      <td>NON-EXTENSIVE O.R. PROCEDURES UNRELATED TO PRI...</td>\n",
              "      <td>Multiple</td>\n",
              "      <td>Inpatient</td>\n",
              "      <td>126522.871140</td>\n",
              "      <td>126522.871140</td>\n",
              "      <td>58654.7264</td>\n",
              "      <td>66898.093812</td>\n",
              "      <td>Maximum Negotiated Charge</td>\n",
              "      <td>91907.6928</td>\n",
              "    </tr>\n",
              "    <tr>\n",
              "      <th>241526</th>\n",
              "      <td>989</td>\n",
              "      <td>NON-EXTENSIVE O.R. PROCEDURES UNRELATED TO PRI...</td>\n",
              "      <td>Multiple</td>\n",
              "      <td>Inpatient</td>\n",
              "      <td>77081.639496</td>\n",
              "      <td>77081.639496</td>\n",
              "      <td>38116.5824</td>\n",
              "      <td>43473.507792</td>\n",
              "      <td>Maximum Negotiated Charge</td>\n",
              "      <td>50601.70336</td>\n",
              "    </tr>\n",
              "  </tbody>\n",
              "</table>\n",
              "<p>241527 rows × 10 columns</p>\n",
              "</div>\n",
              "    <div class=\"colab-df-buttons\">\n",
              "\n",
              "  <div class=\"colab-df-container\">\n",
              "    <button class=\"colab-df-convert\" onclick=\"convertToInteractive('df-1abc80b1-db04-4b6d-8e4e-c95eef05db4d')\"\n",
              "            title=\"Convert this dataframe to an interactive table.\"\n",
              "            style=\"display:none;\">\n",
              "\n",
              "  <svg xmlns=\"http://www.w3.org/2000/svg\" height=\"24px\" viewBox=\"0 -960 960 960\">\n",
              "    <path d=\"M120-120v-720h720v720H120Zm60-500h600v-160H180v160Zm220 220h160v-160H400v160Zm0 220h160v-160H400v160ZM180-400h160v-160H180v160Zm440 0h160v-160H620v160ZM180-180h160v-160H180v160Zm440 0h160v-160H620v160Z\"/>\n",
              "  </svg>\n",
              "    </button>\n",
              "\n",
              "  <style>\n",
              "    .colab-df-container {\n",
              "      display:flex;\n",
              "      gap: 12px;\n",
              "    }\n",
              "\n",
              "    .colab-df-convert {\n",
              "      background-color: #E8F0FE;\n",
              "      border: none;\n",
              "      border-radius: 50%;\n",
              "      cursor: pointer;\n",
              "      display: none;\n",
              "      fill: #1967D2;\n",
              "      height: 32px;\n",
              "      padding: 0 0 0 0;\n",
              "      width: 32px;\n",
              "    }\n",
              "\n",
              "    .colab-df-convert:hover {\n",
              "      background-color: #E2EBFA;\n",
              "      box-shadow: 0px 1px 2px rgba(60, 64, 67, 0.3), 0px 1px 3px 1px rgba(60, 64, 67, 0.15);\n",
              "      fill: #174EA6;\n",
              "    }\n",
              "\n",
              "    .colab-df-buttons div {\n",
              "      margin-bottom: 4px;\n",
              "    }\n",
              "\n",
              "    [theme=dark] .colab-df-convert {\n",
              "      background-color: #3B4455;\n",
              "      fill: #D2E3FC;\n",
              "    }\n",
              "\n",
              "    [theme=dark] .colab-df-convert:hover {\n",
              "      background-color: #434B5C;\n",
              "      box-shadow: 0px 1px 3px 1px rgba(0, 0, 0, 0.15);\n",
              "      filter: drop-shadow(0px 1px 2px rgba(0, 0, 0, 0.3));\n",
              "      fill: #FFFFFF;\n",
              "    }\n",
              "  </style>\n",
              "\n",
              "    <script>\n",
              "      const buttonEl =\n",
              "        document.querySelector('#df-1abc80b1-db04-4b6d-8e4e-c95eef05db4d button.colab-df-convert');\n",
              "      buttonEl.style.display =\n",
              "        google.colab.kernel.accessAllowed ? 'block' : 'none';\n",
              "\n",
              "      async function convertToInteractive(key) {\n",
              "        const element = document.querySelector('#df-1abc80b1-db04-4b6d-8e4e-c95eef05db4d');\n",
              "        const dataTable =\n",
              "          await google.colab.kernel.invokeFunction('convertToInteractive',\n",
              "                                                    [key], {});\n",
              "        if (!dataTable) return;\n",
              "\n",
              "        const docLinkHtml = 'Like what you see? Visit the ' +\n",
              "          '<a target=\"_blank\" href=https://colab.research.google.com/notebooks/data_table.ipynb>data table notebook</a>'\n",
              "          + ' to learn more about interactive tables.';\n",
              "        element.innerHTML = '';\n",
              "        dataTable['output_type'] = 'display_data';\n",
              "        await google.colab.output.renderOutput(dataTable, element);\n",
              "        const docLink = document.createElement('div');\n",
              "        docLink.innerHTML = docLinkHtml;\n",
              "        element.appendChild(docLink);\n",
              "      }\n",
              "    </script>\n",
              "  </div>\n",
              "\n",
              "\n",
              "<div id=\"df-ed3b4e60-16bc-48c8-9e76-68e593d1c731\">\n",
              "  <button class=\"colab-df-quickchart\" onclick=\"quickchart('df-ed3b4e60-16bc-48c8-9e76-68e593d1c731')\"\n",
              "            title=\"Suggest charts.\"\n",
              "            style=\"display:none;\">\n",
              "\n",
              "<svg xmlns=\"http://www.w3.org/2000/svg\" height=\"24px\"viewBox=\"0 0 24 24\"\n",
              "     width=\"24px\">\n",
              "    <g>\n",
              "        <path d=\"M19 3H5c-1.1 0-2 .9-2 2v14c0 1.1.9 2 2 2h14c1.1 0 2-.9 2-2V5c0-1.1-.9-2-2-2zM9 17H7v-7h2v7zm4 0h-2V7h2v10zm4 0h-2v-4h2v4z\"/>\n",
              "    </g>\n",
              "</svg>\n",
              "  </button>\n",
              "\n",
              "<style>\n",
              "  .colab-df-quickchart {\n",
              "      --bg-color: #E8F0FE;\n",
              "      --fill-color: #1967D2;\n",
              "      --hover-bg-color: #E2EBFA;\n",
              "      --hover-fill-color: #174EA6;\n",
              "      --disabled-fill-color: #AAA;\n",
              "      --disabled-bg-color: #DDD;\n",
              "  }\n",
              "\n",
              "  [theme=dark] .colab-df-quickchart {\n",
              "      --bg-color: #3B4455;\n",
              "      --fill-color: #D2E3FC;\n",
              "      --hover-bg-color: #434B5C;\n",
              "      --hover-fill-color: #FFFFFF;\n",
              "      --disabled-bg-color: #3B4455;\n",
              "      --disabled-fill-color: #666;\n",
              "  }\n",
              "\n",
              "  .colab-df-quickchart {\n",
              "    background-color: var(--bg-color);\n",
              "    border: none;\n",
              "    border-radius: 50%;\n",
              "    cursor: pointer;\n",
              "    display: none;\n",
              "    fill: var(--fill-color);\n",
              "    height: 32px;\n",
              "    padding: 0;\n",
              "    width: 32px;\n",
              "  }\n",
              "\n",
              "  .colab-df-quickchart:hover {\n",
              "    background-color: var(--hover-bg-color);\n",
              "    box-shadow: 0 1px 2px rgba(60, 64, 67, 0.3), 0 1px 3px 1px rgba(60, 64, 67, 0.15);\n",
              "    fill: var(--button-hover-fill-color);\n",
              "  }\n",
              "\n",
              "  .colab-df-quickchart-complete:disabled,\n",
              "  .colab-df-quickchart-complete:disabled:hover {\n",
              "    background-color: var(--disabled-bg-color);\n",
              "    fill: var(--disabled-fill-color);\n",
              "    box-shadow: none;\n",
              "  }\n",
              "\n",
              "  .colab-df-spinner {\n",
              "    border: 2px solid var(--fill-color);\n",
              "    border-color: transparent;\n",
              "    border-bottom-color: var(--fill-color);\n",
              "    animation:\n",
              "      spin 1s steps(1) infinite;\n",
              "  }\n",
              "\n",
              "  @keyframes spin {\n",
              "    0% {\n",
              "      border-color: transparent;\n",
              "      border-bottom-color: var(--fill-color);\n",
              "      border-left-color: var(--fill-color);\n",
              "    }\n",
              "    20% {\n",
              "      border-color: transparent;\n",
              "      border-left-color: var(--fill-color);\n",
              "      border-top-color: var(--fill-color);\n",
              "    }\n",
              "    30% {\n",
              "      border-color: transparent;\n",
              "      border-left-color: var(--fill-color);\n",
              "      border-top-color: var(--fill-color);\n",
              "      border-right-color: var(--fill-color);\n",
              "    }\n",
              "    40% {\n",
              "      border-color: transparent;\n",
              "      border-right-color: var(--fill-color);\n",
              "      border-top-color: var(--fill-color);\n",
              "    }\n",
              "    60% {\n",
              "      border-color: transparent;\n",
              "      border-right-color: var(--fill-color);\n",
              "    }\n",
              "    80% {\n",
              "      border-color: transparent;\n",
              "      border-right-color: var(--fill-color);\n",
              "      border-bottom-color: var(--fill-color);\n",
              "    }\n",
              "    90% {\n",
              "      border-color: transparent;\n",
              "      border-bottom-color: var(--fill-color);\n",
              "    }\n",
              "  }\n",
              "</style>\n",
              "\n",
              "  <script>\n",
              "    async function quickchart(key) {\n",
              "      const quickchartButtonEl =\n",
              "        document.querySelector('#' + key + ' button');\n",
              "      quickchartButtonEl.disabled = true;  // To prevent multiple clicks.\n",
              "      quickchartButtonEl.classList.add('colab-df-spinner');\n",
              "      try {\n",
              "        const charts = await google.colab.kernel.invokeFunction(\n",
              "            'suggestCharts', [key], {});\n",
              "      } catch (error) {\n",
              "        console.error('Error during call to suggestCharts:', error);\n",
              "      }\n",
              "      quickchartButtonEl.classList.remove('colab-df-spinner');\n",
              "      quickchartButtonEl.classList.add('colab-df-quickchart-complete');\n",
              "    }\n",
              "    (() => {\n",
              "      let quickchartButtonEl =\n",
              "        document.querySelector('#df-ed3b4e60-16bc-48c8-9e76-68e593d1c731 button');\n",
              "      quickchartButtonEl.style.display =\n",
              "        google.colab.kernel.accessAllowed ? 'block' : 'none';\n",
              "    })();\n",
              "  </script>\n",
              "</div>\n",
              "    </div>\n",
              "  </div>\n"
            ]
          },
          "metadata": {},
          "execution_count": 47
        }
      ]
    },
    {
      "cell_type": "code",
      "source": [
        "City_md_modified.to_sql('City_md', conn, if_exists='replace')"
      ],
      "metadata": {
        "colab": {
          "base_uri": "https://localhost:8080/"
        },
        "id": "5c7KS3K2A-Dw",
        "outputId": "3f77e110-6c9f-4a0c-fe02-3fb2c8d04a40"
      },
      "execution_count": null,
      "outputs": [
        {
          "output_type": "execute_result",
          "data": {
            "text/plain": [
              "241527"
            ]
          },
          "metadata": {},
          "execution_count": 48
        }
      ]
    },
    {
      "cell_type": "markdown",
      "source": [
        "# Second database analysis"
      ],
      "metadata": {
        "id": "AmDCZh6jBvj-"
      }
    },
    {
      "cell_type": "code",
      "source": [
        "North_Shore = pd.read_csv('/83-1728077_Northshore_Rehabilitation_Hospital_standardcharges.csv')\n",
        "North_Shore"
      ],
      "metadata": {
        "id": "qbb9zRylIO-1",
        "colab": {
          "base_uri": "https://localhost:8080/",
          "height": 424
        },
        "outputId": "0a4855aa-2da9-4c5c-bb56-3a0bb3c6153f"
      },
      "execution_count": 96,
      "outputs": [
        {
          "output_type": "execute_result",
          "data": {
            "text/plain": [
              "       CHARGE_CODE                            CHARGE_DESCRIPTION   CHARGE  \\\n",
              "0          3001023                             ROOM & BOARD 8NCH  1977.14   \n",
              "1          3001024                            ROOM & BOARD 10NCH  4410.54   \n",
              "2          3001026                           ROOM & BOARD 5.5NCH  1672.96   \n",
              "3          3001027                           ROOM & BOARD 6.5NCH  1977.14   \n",
              "4          3001028                           ROOM & BOARD 6.5NCH  1977.14   \n",
              "...            ...                                           ...      ...   \n",
              "54688      4965778  POLYETHYLENE GLYCOL 3350 17 GM/SCOOP PO POWD     0.50   \n",
              "54689      4965781                ZONISAMIDE SUSPENSION 10 MG/ML    29.90   \n",
              "54690      4965782                    PREDNISONE 5 MG/ML PO CONC    20.80   \n",
              "54691      4965787       CYCLOSPORINE MODIFIED 100 MG/ML PO SOLN    47.10   \n",
              "54692      9219213                                 CYMBALTA 20MG    10.14   \n",
              "\n",
              "       REVENUE_CODE CPT_CODE PHARMACY_NDC  \n",
              "0             128.0      NaN          NaN  \n",
              "1             128.0      NaN          NaN  \n",
              "2             128.0      NaN          NaN  \n",
              "3             128.0      NaN          NaN  \n",
              "4             128.0      NaN          NaN  \n",
              "...             ...      ...          ...  \n",
              "54688           NaN      NaN   6217519531  \n",
              "54689           NaN      NaN   9999101892  \n",
              "54690           NaN      NaN   9999101893  \n",
              "54691           NaN      NaN   9999101896  \n",
              "54692         250.0      NaN          NaN  \n",
              "\n",
              "[54693 rows x 6 columns]"
            ],
            "text/html": [
              "\n",
              "  <div id=\"df-3243d7b2-014a-46f5-b086-16f4517ce996\" class=\"colab-df-container\">\n",
              "    <div>\n",
              "<style scoped>\n",
              "    .dataframe tbody tr th:only-of-type {\n",
              "        vertical-align: middle;\n",
              "    }\n",
              "\n",
              "    .dataframe tbody tr th {\n",
              "        vertical-align: top;\n",
              "    }\n",
              "\n",
              "    .dataframe thead th {\n",
              "        text-align: right;\n",
              "    }\n",
              "</style>\n",
              "<table border=\"1\" class=\"dataframe\">\n",
              "  <thead>\n",
              "    <tr style=\"text-align: right;\">\n",
              "      <th></th>\n",
              "      <th>CHARGE_CODE</th>\n",
              "      <th>CHARGE_DESCRIPTION</th>\n",
              "      <th>CHARGE</th>\n",
              "      <th>REVENUE_CODE</th>\n",
              "      <th>CPT_CODE</th>\n",
              "      <th>PHARMACY_NDC</th>\n",
              "    </tr>\n",
              "  </thead>\n",
              "  <tbody>\n",
              "    <tr>\n",
              "      <th>0</th>\n",
              "      <td>3001023</td>\n",
              "      <td>ROOM &amp; BOARD 8NCH</td>\n",
              "      <td>1977.14</td>\n",
              "      <td>128.0</td>\n",
              "      <td>NaN</td>\n",
              "      <td>NaN</td>\n",
              "    </tr>\n",
              "    <tr>\n",
              "      <th>1</th>\n",
              "      <td>3001024</td>\n",
              "      <td>ROOM &amp; BOARD 10NCH</td>\n",
              "      <td>4410.54</td>\n",
              "      <td>128.0</td>\n",
              "      <td>NaN</td>\n",
              "      <td>NaN</td>\n",
              "    </tr>\n",
              "    <tr>\n",
              "      <th>2</th>\n",
              "      <td>3001026</td>\n",
              "      <td>ROOM &amp; BOARD 5.5NCH</td>\n",
              "      <td>1672.96</td>\n",
              "      <td>128.0</td>\n",
              "      <td>NaN</td>\n",
              "      <td>NaN</td>\n",
              "    </tr>\n",
              "    <tr>\n",
              "      <th>3</th>\n",
              "      <td>3001027</td>\n",
              "      <td>ROOM &amp; BOARD 6.5NCH</td>\n",
              "      <td>1977.14</td>\n",
              "      <td>128.0</td>\n",
              "      <td>NaN</td>\n",
              "      <td>NaN</td>\n",
              "    </tr>\n",
              "    <tr>\n",
              "      <th>4</th>\n",
              "      <td>3001028</td>\n",
              "      <td>ROOM &amp; BOARD 6.5NCH</td>\n",
              "      <td>1977.14</td>\n",
              "      <td>128.0</td>\n",
              "      <td>NaN</td>\n",
              "      <td>NaN</td>\n",
              "    </tr>\n",
              "    <tr>\n",
              "      <th>...</th>\n",
              "      <td>...</td>\n",
              "      <td>...</td>\n",
              "      <td>...</td>\n",
              "      <td>...</td>\n",
              "      <td>...</td>\n",
              "      <td>...</td>\n",
              "    </tr>\n",
              "    <tr>\n",
              "      <th>54688</th>\n",
              "      <td>4965778</td>\n",
              "      <td>POLYETHYLENE GLYCOL 3350 17 GM/SCOOP PO POWD</td>\n",
              "      <td>0.50</td>\n",
              "      <td>NaN</td>\n",
              "      <td>NaN</td>\n",
              "      <td>6217519531</td>\n",
              "    </tr>\n",
              "    <tr>\n",
              "      <th>54689</th>\n",
              "      <td>4965781</td>\n",
              "      <td>ZONISAMIDE SUSPENSION 10 MG/ML</td>\n",
              "      <td>29.90</td>\n",
              "      <td>NaN</td>\n",
              "      <td>NaN</td>\n",
              "      <td>9999101892</td>\n",
              "    </tr>\n",
              "    <tr>\n",
              "      <th>54690</th>\n",
              "      <td>4965782</td>\n",
              "      <td>PREDNISONE 5 MG/ML PO CONC</td>\n",
              "      <td>20.80</td>\n",
              "      <td>NaN</td>\n",
              "      <td>NaN</td>\n",
              "      <td>9999101893</td>\n",
              "    </tr>\n",
              "    <tr>\n",
              "      <th>54691</th>\n",
              "      <td>4965787</td>\n",
              "      <td>CYCLOSPORINE MODIFIED 100 MG/ML PO SOLN</td>\n",
              "      <td>47.10</td>\n",
              "      <td>NaN</td>\n",
              "      <td>NaN</td>\n",
              "      <td>9999101896</td>\n",
              "    </tr>\n",
              "    <tr>\n",
              "      <th>54692</th>\n",
              "      <td>9219213</td>\n",
              "      <td>CYMBALTA 20MG</td>\n",
              "      <td>10.14</td>\n",
              "      <td>250.0</td>\n",
              "      <td>NaN</td>\n",
              "      <td>NaN</td>\n",
              "    </tr>\n",
              "  </tbody>\n",
              "</table>\n",
              "<p>54693 rows × 6 columns</p>\n",
              "</div>\n",
              "    <div class=\"colab-df-buttons\">\n",
              "\n",
              "  <div class=\"colab-df-container\">\n",
              "    <button class=\"colab-df-convert\" onclick=\"convertToInteractive('df-3243d7b2-014a-46f5-b086-16f4517ce996')\"\n",
              "            title=\"Convert this dataframe to an interactive table.\"\n",
              "            style=\"display:none;\">\n",
              "\n",
              "  <svg xmlns=\"http://www.w3.org/2000/svg\" height=\"24px\" viewBox=\"0 -960 960 960\">\n",
              "    <path d=\"M120-120v-720h720v720H120Zm60-500h600v-160H180v160Zm220 220h160v-160H400v160Zm0 220h160v-160H400v160ZM180-400h160v-160H180v160Zm440 0h160v-160H620v160ZM180-180h160v-160H180v160Zm440 0h160v-160H620v160Z\"/>\n",
              "  </svg>\n",
              "    </button>\n",
              "\n",
              "  <style>\n",
              "    .colab-df-container {\n",
              "      display:flex;\n",
              "      gap: 12px;\n",
              "    }\n",
              "\n",
              "    .colab-df-convert {\n",
              "      background-color: #E8F0FE;\n",
              "      border: none;\n",
              "      border-radius: 50%;\n",
              "      cursor: pointer;\n",
              "      display: none;\n",
              "      fill: #1967D2;\n",
              "      height: 32px;\n",
              "      padding: 0 0 0 0;\n",
              "      width: 32px;\n",
              "    }\n",
              "\n",
              "    .colab-df-convert:hover {\n",
              "      background-color: #E2EBFA;\n",
              "      box-shadow: 0px 1px 2px rgba(60, 64, 67, 0.3), 0px 1px 3px 1px rgba(60, 64, 67, 0.15);\n",
              "      fill: #174EA6;\n",
              "    }\n",
              "\n",
              "    .colab-df-buttons div {\n",
              "      margin-bottom: 4px;\n",
              "    }\n",
              "\n",
              "    [theme=dark] .colab-df-convert {\n",
              "      background-color: #3B4455;\n",
              "      fill: #D2E3FC;\n",
              "    }\n",
              "\n",
              "    [theme=dark] .colab-df-convert:hover {\n",
              "      background-color: #434B5C;\n",
              "      box-shadow: 0px 1px 3px 1px rgba(0, 0, 0, 0.15);\n",
              "      filter: drop-shadow(0px 1px 2px rgba(0, 0, 0, 0.3));\n",
              "      fill: #FFFFFF;\n",
              "    }\n",
              "  </style>\n",
              "\n",
              "    <script>\n",
              "      const buttonEl =\n",
              "        document.querySelector('#df-3243d7b2-014a-46f5-b086-16f4517ce996 button.colab-df-convert');\n",
              "      buttonEl.style.display =\n",
              "        google.colab.kernel.accessAllowed ? 'block' : 'none';\n",
              "\n",
              "      async function convertToInteractive(key) {\n",
              "        const element = document.querySelector('#df-3243d7b2-014a-46f5-b086-16f4517ce996');\n",
              "        const dataTable =\n",
              "          await google.colab.kernel.invokeFunction('convertToInteractive',\n",
              "                                                    [key], {});\n",
              "        if (!dataTable) return;\n",
              "\n",
              "        const docLinkHtml = 'Like what you see? Visit the ' +\n",
              "          '<a target=\"_blank\" href=https://colab.research.google.com/notebooks/data_table.ipynb>data table notebook</a>'\n",
              "          + ' to learn more about interactive tables.';\n",
              "        element.innerHTML = '';\n",
              "        dataTable['output_type'] = 'display_data';\n",
              "        await google.colab.output.renderOutput(dataTable, element);\n",
              "        const docLink = document.createElement('div');\n",
              "        docLink.innerHTML = docLinkHtml;\n",
              "        element.appendChild(docLink);\n",
              "      }\n",
              "    </script>\n",
              "  </div>\n",
              "\n",
              "\n",
              "<div id=\"df-13d426b5-659e-4667-a2ed-d218f9d9729d\">\n",
              "  <button class=\"colab-df-quickchart\" onclick=\"quickchart('df-13d426b5-659e-4667-a2ed-d218f9d9729d')\"\n",
              "            title=\"Suggest charts.\"\n",
              "            style=\"display:none;\">\n",
              "\n",
              "<svg xmlns=\"http://www.w3.org/2000/svg\" height=\"24px\"viewBox=\"0 0 24 24\"\n",
              "     width=\"24px\">\n",
              "    <g>\n",
              "        <path d=\"M19 3H5c-1.1 0-2 .9-2 2v14c0 1.1.9 2 2 2h14c1.1 0 2-.9 2-2V5c0-1.1-.9-2-2-2zM9 17H7v-7h2v7zm4 0h-2V7h2v10zm4 0h-2v-4h2v4z\"/>\n",
              "    </g>\n",
              "</svg>\n",
              "  </button>\n",
              "\n",
              "<style>\n",
              "  .colab-df-quickchart {\n",
              "      --bg-color: #E8F0FE;\n",
              "      --fill-color: #1967D2;\n",
              "      --hover-bg-color: #E2EBFA;\n",
              "      --hover-fill-color: #174EA6;\n",
              "      --disabled-fill-color: #AAA;\n",
              "      --disabled-bg-color: #DDD;\n",
              "  }\n",
              "\n",
              "  [theme=dark] .colab-df-quickchart {\n",
              "      --bg-color: #3B4455;\n",
              "      --fill-color: #D2E3FC;\n",
              "      --hover-bg-color: #434B5C;\n",
              "      --hover-fill-color: #FFFFFF;\n",
              "      --disabled-bg-color: #3B4455;\n",
              "      --disabled-fill-color: #666;\n",
              "  }\n",
              "\n",
              "  .colab-df-quickchart {\n",
              "    background-color: var(--bg-color);\n",
              "    border: none;\n",
              "    border-radius: 50%;\n",
              "    cursor: pointer;\n",
              "    display: none;\n",
              "    fill: var(--fill-color);\n",
              "    height: 32px;\n",
              "    padding: 0;\n",
              "    width: 32px;\n",
              "  }\n",
              "\n",
              "  .colab-df-quickchart:hover {\n",
              "    background-color: var(--hover-bg-color);\n",
              "    box-shadow: 0 1px 2px rgba(60, 64, 67, 0.3), 0 1px 3px 1px rgba(60, 64, 67, 0.15);\n",
              "    fill: var(--button-hover-fill-color);\n",
              "  }\n",
              "\n",
              "  .colab-df-quickchart-complete:disabled,\n",
              "  .colab-df-quickchart-complete:disabled:hover {\n",
              "    background-color: var(--disabled-bg-color);\n",
              "    fill: var(--disabled-fill-color);\n",
              "    box-shadow: none;\n",
              "  }\n",
              "\n",
              "  .colab-df-spinner {\n",
              "    border: 2px solid var(--fill-color);\n",
              "    border-color: transparent;\n",
              "    border-bottom-color: var(--fill-color);\n",
              "    animation:\n",
              "      spin 1s steps(1) infinite;\n",
              "  }\n",
              "\n",
              "  @keyframes spin {\n",
              "    0% {\n",
              "      border-color: transparent;\n",
              "      border-bottom-color: var(--fill-color);\n",
              "      border-left-color: var(--fill-color);\n",
              "    }\n",
              "    20% {\n",
              "      border-color: transparent;\n",
              "      border-left-color: var(--fill-color);\n",
              "      border-top-color: var(--fill-color);\n",
              "    }\n",
              "    30% {\n",
              "      border-color: transparent;\n",
              "      border-left-color: var(--fill-color);\n",
              "      border-top-color: var(--fill-color);\n",
              "      border-right-color: var(--fill-color);\n",
              "    }\n",
              "    40% {\n",
              "      border-color: transparent;\n",
              "      border-right-color: var(--fill-color);\n",
              "      border-top-color: var(--fill-color);\n",
              "    }\n",
              "    60% {\n",
              "      border-color: transparent;\n",
              "      border-right-color: var(--fill-color);\n",
              "    }\n",
              "    80% {\n",
              "      border-color: transparent;\n",
              "      border-right-color: var(--fill-color);\n",
              "      border-bottom-color: var(--fill-color);\n",
              "    }\n",
              "    90% {\n",
              "      border-color: transparent;\n",
              "      border-bottom-color: var(--fill-color);\n",
              "    }\n",
              "  }\n",
              "</style>\n",
              "\n",
              "  <script>\n",
              "    async function quickchart(key) {\n",
              "      const quickchartButtonEl =\n",
              "        document.querySelector('#' + key + ' button');\n",
              "      quickchartButtonEl.disabled = true;  // To prevent multiple clicks.\n",
              "      quickchartButtonEl.classList.add('colab-df-spinner');\n",
              "      try {\n",
              "        const charts = await google.colab.kernel.invokeFunction(\n",
              "            'suggestCharts', [key], {});\n",
              "      } catch (error) {\n",
              "        console.error('Error during call to suggestCharts:', error);\n",
              "      }\n",
              "      quickchartButtonEl.classList.remove('colab-df-spinner');\n",
              "      quickchartButtonEl.classList.add('colab-df-quickchart-complete');\n",
              "    }\n",
              "    (() => {\n",
              "      let quickchartButtonEl =\n",
              "        document.querySelector('#df-13d426b5-659e-4667-a2ed-d218f9d9729d button');\n",
              "      quickchartButtonEl.style.display =\n",
              "        google.colab.kernel.accessAllowed ? 'block' : 'none';\n",
              "    })();\n",
              "  </script>\n",
              "</div>\n",
              "    </div>\n",
              "  </div>\n"
            ]
          },
          "metadata": {},
          "execution_count": 96
        }
      ]
    },
    {
      "cell_type": "code",
      "source": [
        "# Shape\n",
        "North_Shore.shape"
      ],
      "metadata": {
        "colab": {
          "base_uri": "https://localhost:8080/"
        },
        "id": "lT8MHsiRNkb9",
        "outputId": "9bae12ef-ea5c-4aae-9c71-cc1823ed8011"
      },
      "execution_count": 97,
      "outputs": [
        {
          "output_type": "execute_result",
          "data": {
            "text/plain": [
              "(54693, 6)"
            ]
          },
          "metadata": {},
          "execution_count": 97
        }
      ]
    },
    {
      "cell_type": "code",
      "source": [
        "# Columns\n",
        "North_Shore.columns"
      ],
      "metadata": {
        "colab": {
          "base_uri": "https://localhost:8080/"
        },
        "id": "wGb6MXJJNpJ2",
        "outputId": "274f3fa4-8a27-4013-f304-ab462b5e03a5"
      },
      "execution_count": 98,
      "outputs": [
        {
          "output_type": "execute_result",
          "data": {
            "text/plain": [
              "Index(['CHARGE_CODE', 'CHARGE_DESCRIPTION', 'CHARGE', 'REVENUE_CODE',\n",
              "       'CPT_CODE', 'PHARMACY_NDC'],\n",
              "      dtype='object')"
            ]
          },
          "metadata": {},
          "execution_count": 98
        }
      ]
    },
    {
      "cell_type": "code",
      "source": [
        "# Identifying missing values\n",
        "missing_values = North_Shore.isna().sum()\n",
        "print(missing_values)"
      ],
      "metadata": {
        "colab": {
          "base_uri": "https://localhost:8080/"
        },
        "id": "TkwWfIQcN8y1",
        "outputId": "e6740568-ed9a-4acd-9eed-46a0dd435185"
      },
      "execution_count": 99,
      "outputs": [
        {
          "output_type": "stream",
          "name": "stdout",
          "text": [
            "CHARGE_CODE               0\n",
            "CHARGE_DESCRIPTION       11\n",
            "CHARGE                    0\n",
            "REVENUE_CODE          52728\n",
            "CPT_CODE              53192\n",
            "PHARMACY_NDC           1968\n",
            "dtype: int64\n"
          ]
        }
      ]
    },
    {
      "cell_type": "code",
      "source": [
        "North_Shore['CHARGE_CODE']\n",
        "North_Shore.dtypes"
      ],
      "metadata": {
        "colab": {
          "base_uri": "https://localhost:8080/"
        },
        "id": "wZlyVoCvOrYy",
        "outputId": "087e377b-041c-4b8c-d236-5e3bfac3e242"
      },
      "execution_count": 100,
      "outputs": [
        {
          "output_type": "execute_result",
          "data": {
            "text/plain": [
              "CHARGE_CODE             int64\n",
              "CHARGE_DESCRIPTION     object\n",
              "CHARGE                float64\n",
              "REVENUE_CODE          float64\n",
              "CPT_CODE               object\n",
              "PHARMACY_NDC           object\n",
              "dtype: object"
            ]
          },
          "metadata": {},
          "execution_count": 100
        }
      ]
    },
    {
      "cell_type": "code",
      "source": [
        "# Statistics\n",
        "descriptive_stats = North_Shore.describe()\n",
        "print(descriptive_stats)\n",
        "\n"
      ],
      "metadata": {
        "colab": {
          "base_uri": "https://localhost:8080/"
        },
        "id": "SNRuxCP0OgP6",
        "outputId": "1182b062-0796-4076-cf27-5e87ae4ecf2f"
      },
      "execution_count": 101,
      "outputs": [
        {
          "output_type": "stream",
          "name": "stdout",
          "text": [
            "        CHARGE_CODE         CHARGE  REVENUE_CODE\n",
            "count  5.469300e+04   54693.000000   1965.000000\n",
            "mean   4.919359e+06      54.107307    329.461578\n",
            "std    2.008249e+05     819.951923    108.353044\n",
            "min    3.001023e+06       0.010000    113.000000\n",
            "25%    4.950644e+06       3.000000    270.000000\n",
            "50%    4.951130e+06       6.000000    300.000000\n",
            "75%    4.953581e+06      20.520000    320.000000\n",
            "max    9.219213e+06  175120.000000    960.000000\n"
          ]
        }
      ]
    },
    {
      "cell_type": "code",
      "source": [
        "# Data distribution\n",
        "plt.hist(North_Shore['CHARGE'], bins=20)\n",
        "plt.xlabel('Values')\n",
        "plt.ylabel('Frequency')\n",
        "plt.title('Data Distribution of CHARGE')\n",
        "plt.show()"
      ],
      "metadata": {
        "colab": {
          "base_uri": "https://localhost:8080/",
          "height": 472
        },
        "id": "M1FtElooPKXJ",
        "outputId": "b11e036c-2033-45b2-acf5-2348c64c3d37"
      },
      "execution_count": 108,
      "outputs": [
        {
          "output_type": "display_data",
          "data": {
            "text/plain": [
              "<Figure size 640x480 with 1 Axes>"
            ],
            "image/png": "[encoded data removed]"
          },
          "metadata": {}
        }
      ]
    },
    {
      "cell_type": "markdown",
      "source": [
        "## Frequency counts"
      ],
      "metadata": {
        "id": "p8ildKPiQ5Uy"
      }
    },
    {
      "cell_type": "code",
      "source": [
        "from pandas.core.series import Frequency\n",
        "\n",
        "frequency_counts = North_Shore['CHARGE_CODE'].value_counts()\n",
        "print(frequency_counts)"
      ],
      "metadata": {
        "colab": {
          "base_uri": "https://localhost:8080/"
        },
        "id": "8pMc-hDEQ3bY",
        "outputId": "78f1b6e5-a9cb-449b-b060-28ef0828729a"
      },
      "execution_count": 104,
      "outputs": [
        {
          "output_type": "stream",
          "name": "stdout",
          "text": [
            "4950747    280\n",
            "4950708    272\n",
            "4950776    255\n",
            "4953171    252\n",
            "4950704    231\n",
            "          ... \n",
            "4368018      1\n",
            "4368017      1\n",
            "4368016      1\n",
            "4368015      1\n",
            "9219213      1\n",
            "Name: CHARGE_CODE, Length: 7553, dtype: int64\n"
          ]
        }
      ]
    },
    {
      "cell_type": "code",
      "source": [
        "frequency_counts = North_Shore['CHARGE_DESCRIPTION'].value_counts()\n",
        "print(frequency_counts)"
      ],
      "metadata": {
        "colab": {
          "base_uri": "https://localhost:8080/"
        },
        "id": "OiHOLF9xRE1w",
        "outputId": "26c12676-8d3c-4ee7-fcfd-75c29292fe48"
      },
      "execution_count": 105,
      "outputs": [
        {
          "output_type": "stream",
          "name": "stdout",
          "text": [
            "GABAPENTIN 300 MG PO CAPS            280\n",
            "CYCLOBENZAPRINE HCL 10 MG PO TABS    272\n",
            "TRAMADOL HCL 50 MG PO TABS           255\n",
            "IBUPROFEN 800 MG PO TABS             252\n",
            "CARISOPRODOL 350 MG PO TABS          231\n",
            "                                    ... \n",
            "COAGULATION TIME                       1\n",
            "FIBRIN SPLIT SEMIQUA                   1\n",
            "D-DIMER QUANT                          1\n",
            "PLATELET AGGREGATION                   1\n",
            "CYMBALTA 20MG                          1\n",
            "Name: CHARGE_DESCRIPTION, Length: 5952, dtype: int64\n"
          ]
        }
      ]
    },
    {
      "cell_type": "code",
      "source": [
        "frequency_counts = North_Shore['CHARGE'].value_counts()\n",
        "print(frequency_counts)"
      ],
      "metadata": {
        "colab": {
          "base_uri": "https://localhost:8080/"
        },
        "id": "nPdoh2k5RLHv",
        "outputId": "27f4dfa8-81c0-4295-fae7-98aa0637f7be"
      },
      "execution_count": 106,
      "outputs": [
        {
          "output_type": "stream",
          "name": "stdout",
          "text": [
            "3.00      17327\n",
            "0.50       3244\n",
            "6.00       2430\n",
            "1.00        363\n",
            "10.00       106\n",
            "          ...  \n",
            "799.76        1\n",
            "399.84        1\n",
            "37.90         1\n",
            "462.69        1\n",
            "3.58          1\n",
            "Name: CHARGE, Length: 6144, dtype: int64\n"
          ]
        }
      ]
    },
    {
      "cell_type": "code",
      "source": [
        "frequency_counts = North_Shore['REVENUE_CODE'].value_counts()\n",
        "print(frequency_counts)"
      ],
      "metadata": {
        "colab": {
          "base_uri": "https://localhost:8080/"
        },
        "id": "tmAoxnu7RfQM",
        "outputId": "431fc8df-d27e-4020-9f83-41921f2d1f0e"
      },
      "execution_count": 109,
      "outputs": [
        {
          "output_type": "stream",
          "name": "stdout",
          "text": [
            "300.0    655\n",
            "270.0    503\n",
            "301.0    127\n",
            "320.0    103\n",
            "420.0     66\n",
            "        ... \n",
            "449.0      1\n",
            "443.0      1\n",
            "133.0      1\n",
            "203.0      1\n",
            "250.0      1\n",
            "Name: REVENUE_CODE, Length: 68, dtype: int64\n"
          ]
        }
      ]
    },
    {
      "cell_type": "code",
      "source": [
        "frequency_counts = North_Shore['CPT_CODE'].value_counts()\n",
        "print(frequency_counts)"
      ],
      "metadata": {
        "colab": {
          "base_uri": "https://localhost:8080/"
        },
        "id": "DdKYCJGcRkpd",
        "outputId": "bbc98980-f897-4ce7-cf84-275c4607030d"
      },
      "execution_count": 110,
      "outputs": [
        {
          "output_type": "stream",
          "name": "stdout",
          "text": [
            "87070    14\n",
            "97150    11\n",
            "86255    10\n",
            "80299    10\n",
            "97110     8\n",
            "         ..\n",
            "77300     1\n",
            "77334     1\n",
            "77003     1\n",
            "77331     1\n",
            "97803     1\n",
            "Name: CPT_CODE, Length: 1035, dtype: int64\n"
          ]
        }
      ]
    },
    {
      "cell_type": "code",
      "source": [
        "frequency_counts = North_Shore['PHARMACY_NDC'].value_counts()\n",
        "print(frequency_counts)"
      ],
      "metadata": {
        "colab": {
          "base_uri": "https://localhost:8080/"
        },
        "id": "k2vYAv-KRrKC",
        "outputId": "166d7f04-1ae6-4a08-d07a-19932ae379fb"
      },
      "execution_count": 111,
      "outputs": [
        {
          "output_type": "stream",
          "name": "stdout",
          "text": [
            "7043600704    3\n",
            "527410737     3\n",
            "6968011530    2\n",
            "409141240     2\n",
            "6068732811    2\n",
            "             ..\n",
            "4335308192    1\n",
            "4596355711    1\n",
            "4948360750    1\n",
            "6878876141    1\n",
            "9999101896    1\n",
            "Name: PHARMACY_NDC, Length: 52636, dtype: int64\n"
          ]
        }
      ]
    },
    {
      "cell_type": "markdown",
      "source": [
        "#SQLite"
      ],
      "metadata": {
        "id": "1WZ2cQ8aR0K7"
      }
    },
    {
      "cell_type": "code",
      "source": [
        "conn = sqlite3.connect('health2.db')\n",
        "c = conn.cursor()"
      ],
      "metadata": {
        "id": "BWA5c2DnR3sN"
      },
      "execution_count": 112,
      "outputs": []
    },
    {
      "cell_type": "markdown",
      "source": [
        "### Creating a table with a North Shore Levittown location"
      ],
      "metadata": {
        "id": "-7Ks-29aS7pN"
      }
    },
    {
      "cell_type": "code",
      "source": [
        "# Creating table\n",
        "c.execute(\"\"\"\n",
        "            CREATE TABLE Levittown\n",
        "                (\n",
        "                    code_procedure text,\n",
        "                    procedure text,\n",
        "                    insurance text,\n",
        "                    gross_charge real,\n",
        "                    discounted_charge real\n",
        "                );\n",
        "          \"\"\")\n",
        "\n",
        "conn.commit()"
      ],
      "metadata": {
        "id": "fzaErnbMSDLp"
      },
      "execution_count": 114,
      "outputs": []
    },
    {
      "cell_type": "code",
      "source": [
        "c.execute('''\n",
        "  SELECT name\n",
        "  FROM sqlite_master\n",
        "  WHERE type='table';\n",
        "  ''')\n",
        "\n",
        "c.fetchall()"
      ],
      "metadata": {
        "colab": {
          "base_uri": "https://localhost:8080/"
        },
        "id": "kKFZcEtMTDws",
        "outputId": "abe9d255-a5a8-4887-8d83-fc9efc988db2"
      },
      "execution_count": 115,
      "outputs": [
        {
          "output_type": "execute_result",
          "data": {
            "text/plain": [
              "[('Levittown',)]"
            ]
          },
          "metadata": {},
          "execution_count": 115
        }
      ]
    },
    {
      "cell_type": "code",
      "source": [
        "c.execute('''\n",
        "  SELECT * FROM Levittown;\n",
        "''')\n",
        "\n",
        "print(c.fetchall())"
      ],
      "metadata": {
        "colab": {
          "base_uri": "https://localhost:8080/"
        },
        "id": "vbF5QqfrTO3O",
        "outputId": "c124628f-5857-48d9-aa4e-56b65785a93b"
      },
      "execution_count": 116,
      "outputs": [
        {
          "output_type": "stream",
          "name": "stdout",
          "text": [
            "[]\n"
          ]
        }
      ]
    },
    {
      "cell_type": "code",
      "source": [
        "# Inserting data\n",
        "sql_query = \"\"\"\n",
        "\n",
        "INSERT INTO Levittown (\n",
        "  'code_procedure',\n",
        "  'procedure',\n",
        "  'insurance',\n",
        "  'gross_charge',\n",
        "  'discounted_charge'\n",
        "  )\n",
        "  values (\n",
        "    '23476',\n",
        "    'c_section',\n",
        "    'aetna',\n",
        "    1000.00,\n",
        "    1.00\n",
        "  );\n",
        "\n",
        "\"\"\"\n",
        "\n",
        "print(sql_query)"
      ],
      "metadata": {
        "colab": {
          "base_uri": "https://localhost:8080/"
        },
        "id": "NFgsfzZhTXYD",
        "outputId": "df64e32d-9f4a-4d65-f68d-f13918630106"
      },
      "execution_count": 121,
      "outputs": [
        {
          "output_type": "stream",
          "name": "stdout",
          "text": [
            "\n",
            "\n",
            "INSERT INTO Levittown (\n",
            "  'code_procedure',\n",
            "  'procedure',\n",
            "  'insurance',\n",
            "  'gross_charge',\n",
            "  'discounted_charge'\n",
            "  )\n",
            "  values (\n",
            "    '23476',\n",
            "    'c_section',\n",
            "    'aetna',\n",
            "    1000.00,\n",
            "    1.00\n",
            "  );\n",
            "\n",
            "\n"
          ]
        }
      ]
    },
    {
      "cell_type": "code",
      "source": [
        "c.execute(sql_query)\n",
        "conn.commit()\n"
      ],
      "metadata": {
        "id": "XuGGG8HWUYSj"
      },
      "execution_count": 122,
      "outputs": []
    },
    {
      "cell_type": "code",
      "source": [
        "sql_query_2 = \"\"\"\n",
        "\n",
        "select *\n",
        "from Levittown;\n",
        "\n",
        "\"\"\"\n",
        "\n",
        "c.execute(sql_query_2)\n",
        "print(c.fetchall())"
      ],
      "metadata": {
        "colab": {
          "base_uri": "https://localhost:8080/"
        },
        "id": "T4FKIT9RUZlW",
        "outputId": "9a19b5d8-0b6d-4597-819a-b3cbf2b24389"
      },
      "execution_count": 123,
      "outputs": [
        {
          "output_type": "stream",
          "name": "stdout",
          "text": [
            "[('23476', 'c_section', 'aetna', 1.0, 1000.0), ('23476', 'c_section', 'aetna', 1000.0, 1.0)]\n"
          ]
        }
      ]
    },
    {
      "cell_type": "code",
      "source": [
        "engine = create_engine('sqlite:///health2.db')\n",
        "\n",
        "pd.read_sql_query(\"select * from Levittown;\", conn)"
      ],
      "metadata": {
        "colab": {
          "base_uri": "https://localhost:8080/",
          "height": 112
        },
        "id": "iZ7nJ9V-UssH",
        "outputId": "ae38dad4-894f-4d3e-a1d1-871ea6a73ff5"
      },
      "execution_count": 124,
      "outputs": [
        {
          "output_type": "execute_result",
          "data": {
            "text/plain": [
              "  code_procedure  procedure insurance  gross_charge  discounted_charge\n",
              "0          23476  c_section     aetna           1.0             1000.0\n",
              "1          23476  c_section     aetna        1000.0                1.0"
            ],
            "text/html": [
              "\n",
              "  <div id=\"df-87be90ac-2094-4b14-a8ea-a92e019560e3\" class=\"colab-df-container\">\n",
              "    <div>\n",
              "<style scoped>\n",
              "    .dataframe tbody tr th:only-of-type {\n",
              "        vertical-align: middle;\n",
              "    }\n",
              "\n",
              "    .dataframe tbody tr th {\n",
              "        vertical-align: top;\n",
              "    }\n",
              "\n",
              "    .dataframe thead th {\n",
              "        text-align: right;\n",
              "    }\n",
              "</style>\n",
              "<table border=\"1\" class=\"dataframe\">\n",
              "  <thead>\n",
              "    <tr style=\"text-align: right;\">\n",
              "      <th></th>\n",
              "      <th>code_procedure</th>\n",
              "      <th>procedure</th>\n",
              "      <th>insurance</th>\n",
              "      <th>gross_charge</th>\n",
              "      <th>discounted_charge</th>\n",
              "    </tr>\n",
              "  </thead>\n",
              "  <tbody>\n",
              "    <tr>\n",
              "      <th>0</th>\n",
              "      <td>23476</td>\n",
              "      <td>c_section</td>\n",
              "      <td>aetna</td>\n",
              "      <td>1.0</td>\n",
              "      <td>1000.0</td>\n",
              "    </tr>\n",
              "    <tr>\n",
              "      <th>1</th>\n",
              "      <td>23476</td>\n",
              "      <td>c_section</td>\n",
              "      <td>aetna</td>\n",
              "      <td>1000.0</td>\n",
              "      <td>1.0</td>\n",
              "    </tr>\n",
              "  </tbody>\n",
              "</table>\n",
              "</div>\n",
              "    <div class=\"colab-df-buttons\">\n",
              "\n",
              "  <div class=\"colab-df-container\">\n",
              "    <button class=\"colab-df-convert\" onclick=\"convertToInteractive('df-87be90ac-2094-4b14-a8ea-a92e019560e3')\"\n",
              "            title=\"Convert this dataframe to an interactive table.\"\n",
              "            style=\"display:none;\">\n",
              "\n",
              "  <svg xmlns=\"http://www.w3.org/2000/svg\" height=\"24px\" viewBox=\"0 -960 960 960\">\n",
              "    <path d=\"M120-120v-720h720v720H120Zm60-500h600v-160H180v160Zm220 220h160v-160H400v160Zm0 220h160v-160H400v160ZM180-400h160v-160H180v160Zm440 0h160v-160H620v160ZM180-180h160v-160H180v160Zm440 0h160v-160H620v160Z\"/>\n",
              "  </svg>\n",
              "    </button>\n",
              "\n",
              "  <style>\n",
              "    .colab-df-container {\n",
              "      display:flex;\n",
              "      gap: 12px;\n",
              "    }\n",
              "\n",
              "    .colab-df-convert {\n",
              "      background-color: #E8F0FE;\n",
              "      border: none;\n",
              "      border-radius: 50%;\n",
              "      cursor: pointer;\n",
              "      display: none;\n",
              "      fill: #1967D2;\n",
              "      height: 32px;\n",
              "      padding: 0 0 0 0;\n",
              "      width: 32px;\n",
              "    }\n",
              "\n",
              "    .colab-df-convert:hover {\n",
              "      background-color: #E2EBFA;\n",
              "      box-shadow: 0px 1px 2px rgba(60, 64, 67, 0.3), 0px 1px 3px 1px rgba(60, 64, 67, 0.15);\n",
              "      fill: #174EA6;\n",
              "    }\n",
              "\n",
              "    .colab-df-buttons div {\n",
              "      margin-bottom: 4px;\n",
              "    }\n",
              "\n",
              "    [theme=dark] .colab-df-convert {\n",
              "      background-color: #3B4455;\n",
              "      fill: #D2E3FC;\n",
              "    }\n",
              "\n",
              "    [theme=dark] .colab-df-convert:hover {\n",
              "      background-color: #434B5C;\n",
              "      box-shadow: 0px 1px 3px 1px rgba(0, 0, 0, 0.15);\n",
              "      filter: drop-shadow(0px 1px 2px rgba(0, 0, 0, 0.3));\n",
              "      fill: #FFFFFF;\n",
              "    }\n",
              "  </style>\n",
              "\n",
              "    <script>\n",
              "      const buttonEl =\n",
              "        document.querySelector('#df-87be90ac-2094-4b14-a8ea-a92e019560e3 button.colab-df-convert');\n",
              "      buttonEl.style.display =\n",
              "        google.colab.kernel.accessAllowed ? 'block' : 'none';\n",
              "\n",
              "      async function convertToInteractive(key) {\n",
              "        const element = document.querySelector('#df-87be90ac-2094-4b14-a8ea-a92e019560e3');\n",
              "        const dataTable =\n",
              "          await google.colab.kernel.invokeFunction('convertToInteractive',\n",
              "                                                    [key], {});\n",
              "        if (!dataTable) return;\n",
              "\n",
              "        const docLinkHtml = 'Like what you see? Visit the ' +\n",
              "          '<a target=\"_blank\" href=https://colab.research.google.com/notebooks/data_table.ipynb>data table notebook</a>'\n",
              "          + ' to learn more about interactive tables.';\n",
              "        element.innerHTML = '';\n",
              "        dataTable['output_type'] = 'display_data';\n",
              "        await google.colab.output.renderOutput(dataTable, element);\n",
              "        const docLink = document.createElement('div');\n",
              "        docLink.innerHTML = docLinkHtml;\n",
              "        element.appendChild(docLink);\n",
              "      }\n",
              "    </script>\n",
              "  </div>\n",
              "\n",
              "\n",
              "<div id=\"df-fbbf7d07-58ae-4c4a-aa06-6adabacf77a1\">\n",
              "  <button class=\"colab-df-quickchart\" onclick=\"quickchart('df-fbbf7d07-58ae-4c4a-aa06-6adabacf77a1')\"\n",
              "            title=\"Suggest charts.\"\n",
              "            style=\"display:none;\">\n",
              "\n",
              "<svg xmlns=\"http://www.w3.org/2000/svg\" height=\"24px\"viewBox=\"0 0 24 24\"\n",
              "     width=\"24px\">\n",
              "    <g>\n",
              "        <path d=\"M19 3H5c-1.1 0-2 .9-2 2v14c0 1.1.9 2 2 2h14c1.1 0 2-.9 2-2V5c0-1.1-.9-2-2-2zM9 17H7v-7h2v7zm4 0h-2V7h2v10zm4 0h-2v-4h2v4z\"/>\n",
              "    </g>\n",
              "</svg>\n",
              "  </button>\n",
              "\n",
              "<style>\n",
              "  .colab-df-quickchart {\n",
              "      --bg-color: #E8F0FE;\n",
              "      --fill-color: #1967D2;\n",
              "      --hover-bg-color: #E2EBFA;\n",
              "      --hover-fill-color: #174EA6;\n",
              "      --disabled-fill-color: #AAA;\n",
              "      --disabled-bg-color: #DDD;\n",
              "  }\n",
              "\n",
              "  [theme=dark] .colab-df-quickchart {\n",
              "      --bg-color: #3B4455;\n",
              "      --fill-color: #D2E3FC;\n",
              "      --hover-bg-color: #434B5C;\n",
              "      --hover-fill-color: #FFFFFF;\n",
              "      --disabled-bg-color: #3B4455;\n",
              "      --disabled-fill-color: #666;\n",
              "  }\n",
              "\n",
              "  .colab-df-quickchart {\n",
              "    background-color: var(--bg-color);\n",
              "    border: none;\n",
              "    border-radius: 50%;\n",
              "    cursor: pointer;\n",
              "    display: none;\n",
              "    fill: var(--fill-color);\n",
              "    height: 32px;\n",
              "    padding: 0;\n",
              "    width: 32px;\n",
              "  }\n",
              "\n",
              "  .colab-df-quickchart:hover {\n",
              "    background-color: var(--hover-bg-color);\n",
              "    box-shadow: 0 1px 2px rgba(60, 64, 67, 0.3), 0 1px 3px 1px rgba(60, 64, 67, 0.15);\n",
              "    fill: var(--button-hover-fill-color);\n",
              "  }\n",
              "\n",
              "  .colab-df-quickchart-complete:disabled,\n",
              "  .colab-df-quickchart-complete:disabled:hover {\n",
              "    background-color: var(--disabled-bg-color);\n",
              "    fill: var(--disabled-fill-color);\n",
              "    box-shadow: none;\n",
              "  }\n",
              "\n",
              "  .colab-df-spinner {\n",
              "    border: 2px solid var(--fill-color);\n",
              "    border-color: transparent;\n",
              "    border-bottom-color: var(--fill-color);\n",
              "    animation:\n",
              "      spin 1s steps(1) infinite;\n",
              "  }\n",
              "\n",
              "  @keyframes spin {\n",
              "    0% {\n",
              "      border-color: transparent;\n",
              "      border-bottom-color: var(--fill-color);\n",
              "      border-left-color: var(--fill-color);\n",
              "    }\n",
              "    20% {\n",
              "      border-color: transparent;\n",
              "      border-left-color: var(--fill-color);\n",
              "      border-top-color: var(--fill-color);\n",
              "    }\n",
              "    30% {\n",
              "      border-color: transparent;\n",
              "      border-left-color: var(--fill-color);\n",
              "      border-top-color: var(--fill-color);\n",
              "      border-right-color: var(--fill-color);\n",
              "    }\n",
              "    40% {\n",
              "      border-color: transparent;\n",
              "      border-right-color: var(--fill-color);\n",
              "      border-top-color: var(--fill-color);\n",
              "    }\n",
              "    60% {\n",
              "      border-color: transparent;\n",
              "      border-right-color: var(--fill-color);\n",
              "    }\n",
              "    80% {\n",
              "      border-color: transparent;\n",
              "      border-right-color: var(--fill-color);\n",
              "      border-bottom-color: var(--fill-color);\n",
              "    }\n",
              "    90% {\n",
              "      border-color: transparent;\n",
              "      border-bottom-color: var(--fill-color);\n",
              "    }\n",
              "  }\n",
              "</style>\n",
              "\n",
              "  <script>\n",
              "    async function quickchart(key) {\n",
              "      const quickchartButtonEl =\n",
              "        document.querySelector('#' + key + ' button');\n",
              "      quickchartButtonEl.disabled = true;  // To prevent multiple clicks.\n",
              "      quickchartButtonEl.classList.add('colab-df-spinner');\n",
              "      try {\n",
              "        const charts = await google.colab.kernel.invokeFunction(\n",
              "            'suggestCharts', [key], {});\n",
              "      } catch (error) {\n",
              "        console.error('Error during call to suggestCharts:', error);\n",
              "      }\n",
              "      quickchartButtonEl.classList.remove('colab-df-spinner');\n",
              "      quickchartButtonEl.classList.add('colab-df-quickchart-complete');\n",
              "    }\n",
              "    (() => {\n",
              "      let quickchartButtonEl =\n",
              "        document.querySelector('#df-fbbf7d07-58ae-4c4a-aa06-6adabacf77a1 button');\n",
              "      quickchartButtonEl.style.display =\n",
              "        google.colab.kernel.accessAllowed ? 'block' : 'none';\n",
              "    })();\n",
              "  </script>\n",
              "</div>\n",
              "    </div>\n",
              "  </div>\n"
            ]
          },
          "metadata": {},
          "execution_count": 124
        }
      ]
    },
    {
      "cell_type": "code",
      "source": [
        "North_Shore.to_sql('code', conn,\n",
        "                             if_exists='replace', index=False)"
      ],
      "metadata": {
        "colab": {
          "base_uri": "https://localhost:8080/"
        },
        "id": "3vIJiKCqU8no",
        "outputId": "96e28731-e558-4be3-ce06-59099fdf8966"
      },
      "execution_count": 125,
      "outputs": [
        {
          "output_type": "execute_result",
          "data": {
            "text/plain": [
              "54693"
            ]
          },
          "metadata": {},
          "execution_count": 125
        }
      ]
    },
    {
      "cell_type": "code",
      "source": [
        "columnNames = list(North_Shore)\n",
        "idVars = columnNames[:8]\n",
        "valueVars = columnNames[8:]\n",
        "\n",
        "Levittown_modified = North_Shore.melt(id_vars=idVars, value_vars=valueVars)\n",
        "\n",
        "Levittown_modified.columns\n",
        "\n",
        "Levittown_modified.rename(columns={'HospCode':'code_procedure',\n",
        "            'variable':'insurance',\n",
        "            'Description':'procedure',\n",
        "             'Minimum Negotiated Charge':'discounted_charge',\n",
        "             'Maximum Negotiated Charge': 'gross_charge'}, inplace=True)\n",
        "\n",
        "Levittown_modified['insurance'].value_counts()\n",
        "\n",
        "Levittown_modified"
      ],
      "metadata": {
        "colab": {
          "base_uri": "https://localhost:8080/",
          "height": 53
        },
        "id": "DEJFZI7NVJH7",
        "outputId": "a86aca27-b13e-40c5-ad10-2ccbd49d8620"
      },
      "execution_count": 132,
      "outputs": [
        {
          "output_type": "execute_result",
          "data": {
            "text/plain": [
              "Empty DataFrame\n",
              "Columns: [CHARGE_CODE, CHARGE_DESCRIPTION, CHARGE, REVENUE_CODE, CPT_CODE, PHARMACY_NDC, insurance, value]\n",
              "Index: []"
            ],
            "text/html": [
              "\n",
              "  <div id=\"df-67abb6d8-fff9-4e6f-a18a-b465515b00fe\" class=\"colab-df-container\">\n",
              "    <div>\n",
              "<style scoped>\n",
              "    .dataframe tbody tr th:only-of-type {\n",
              "        vertical-align: middle;\n",
              "    }\n",
              "\n",
              "    .dataframe tbody tr th {\n",
              "        vertical-align: top;\n",
              "    }\n",
              "\n",
              "    .dataframe thead th {\n",
              "        text-align: right;\n",
              "    }\n",
              "</style>\n",
              "<table border=\"1\" class=\"dataframe\">\n",
              "  <thead>\n",
              "    <tr style=\"text-align: right;\">\n",
              "      <th></th>\n",
              "      <th>CHARGE_CODE</th>\n",
              "      <th>CHARGE_DESCRIPTION</th>\n",
              "      <th>CHARGE</th>\n",
              "      <th>REVENUE_CODE</th>\n",
              "      <th>CPT_CODE</th>\n",
              "      <th>PHARMACY_NDC</th>\n",
              "      <th>insurance</th>\n",
              "      <th>value</th>\n",
              "    </tr>\n",
              "  </thead>\n",
              "  <tbody>\n",
              "  </tbody>\n",
              "</table>\n",
              "</div>\n",
              "    <div class=\"colab-df-buttons\">\n",
              "\n",
              "  <div class=\"colab-df-container\">\n",
              "    <button class=\"colab-df-convert\" onclick=\"convertToInteractive('df-67abb6d8-fff9-4e6f-a18a-b465515b00fe')\"\n",
              "            title=\"Convert this dataframe to an interactive table.\"\n",
              "            style=\"display:none;\">\n",
              "\n",
              "  <svg xmlns=\"http://www.w3.org/2000/svg\" height=\"24px\" viewBox=\"0 -960 960 960\">\n",
              "    <path d=\"M120-120v-720h720v720H120Zm60-500h600v-160H180v160Zm220 220h160v-160H400v160Zm0 220h160v-160H400v160ZM180-400h160v-160H180v160Zm440 0h160v-160H620v160ZM180-180h160v-160H180v160Zm440 0h160v-160H620v160Z\"/>\n",
              "  </svg>\n",
              "    </button>\n",
              "\n",
              "  <style>\n",
              "    .colab-df-container {\n",
              "      display:flex;\n",
              "      gap: 12px;\n",
              "    }\n",
              "\n",
              "    .colab-df-convert {\n",
              "      background-color: #E8F0FE;\n",
              "      border: none;\n",
              "      border-radius: 50%;\n",
              "      cursor: pointer;\n",
              "      display: none;\n",
              "      fill: #1967D2;\n",
              "      height: 32px;\n",
              "      padding: 0 0 0 0;\n",
              "      width: 32px;\n",
              "    }\n",
              "\n",
              "    .colab-df-convert:hover {\n",
              "      background-color: #E2EBFA;\n",
              "      box-shadow: 0px 1px 2px rgba(60, 64, 67, 0.3), 0px 1px 3px 1px rgba(60, 64, 67, 0.15);\n",
              "      fill: #174EA6;\n",
              "    }\n",
              "\n",
              "    .colab-df-buttons div {\n",
              "      margin-bottom: 4px;\n",
              "    }\n",
              "\n",
              "    [theme=dark] .colab-df-convert {\n",
              "      background-color: #3B4455;\n",
              "      fill: #D2E3FC;\n",
              "    }\n",
              "\n",
              "    [theme=dark] .colab-df-convert:hover {\n",
              "      background-color: #434B5C;\n",
              "      box-shadow: 0px 1px 3px 1px rgba(0, 0, 0, 0.15);\n",
              "      filter: drop-shadow(0px 1px 2px rgba(0, 0, 0, 0.3));\n",
              "      fill: #FFFFFF;\n",
              "    }\n",
              "  </style>\n",
              "\n",
              "    <script>\n",
              "      const buttonEl =\n",
              "        document.querySelector('#df-67abb6d8-fff9-4e6f-a18a-b465515b00fe button.colab-df-convert');\n",
              "      buttonEl.style.display =\n",
              "        google.colab.kernel.accessAllowed ? 'block' : 'none';\n",
              "\n",
              "      async function convertToInteractive(key) {\n",
              "        const element = document.querySelector('#df-67abb6d8-fff9-4e6f-a18a-b465515b00fe');\n",
              "        const dataTable =\n",
              "          await google.colab.kernel.invokeFunction('convertToInteractive',\n",
              "                                                    [key], {});\n",
              "        if (!dataTable) return;\n",
              "\n",
              "        const docLinkHtml = 'Like what you see? Visit the ' +\n",
              "          '<a target=\"_blank\" href=https://colab.research.google.com/notebooks/data_table.ipynb>data table notebook</a>'\n",
              "          + ' to learn more about interactive tables.';\n",
              "        element.innerHTML = '';\n",
              "        dataTable['output_type'] = 'display_data';\n",
              "        await google.colab.output.renderOutput(dataTable, element);\n",
              "        const docLink = document.createElement('div');\n",
              "        docLink.innerHTML = docLinkHtml;\n",
              "        element.appendChild(docLink);\n",
              "      }\n",
              "    </script>\n",
              "  </div>\n",
              "\n",
              "    </div>\n",
              "  </div>\n"
            ]
          },
          "metadata": {},
          "execution_count": 132
        }
      ]
    },
    {
      "cell_type": "code",
      "source": [
        "Levittown_modified.to_sql('Levittown', conn, if_exists='replace')"
      ],
      "metadata": {
        "colab": {
          "base_uri": "https://localhost:8080/"
        },
        "id": "a2bq39o5V7tw",
        "outputId": "51b13896-82b4-4f8c-ae5d-fb760f1bd701"
      },
      "execution_count": 128,
      "outputs": [
        {
          "output_type": "execute_result",
          "data": {
            "text/plain": [
              "0"
            ]
          },
          "metadata": {},
          "execution_count": 128
        }
      ]
    }
  ]
}